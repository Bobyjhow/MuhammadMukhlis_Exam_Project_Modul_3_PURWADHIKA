{
 "cells": [
  {
   "cell_type": "markdown",
   "metadata": {},
   "source": [
    "# Capstone Project Modul 3 Purwadhika "
   ]
  },
  {
   "cell_type": "markdown",
   "metadata": {},
   "source": [
    "[Sumber datasets](https://www.kaggle.com/datasets/turkibintalib/saudi-arabia-used-cars-dataset?select=UsedCarsSA_Clean_EN.csv) <br>\n",
    "Domain Knowledge dan literasi didapatkan berdasarkan sumber-sumber berikut:\n",
    "- [expertarrivals.com](https://www.expatarrivals.com/middle-east/saudi-arabia/riyadh/getting-around-riyadh) \n",
    "- [kenresearch.com](https://www.kenresearch.com/blog/2020/09/future-of-saudi-arabia-used-car-market-growth-rate-ken-research/) \n",
    "- [kenresearch.com](https://www.kenresearch.com/automotive-transportation-and-warehousing/automotive-and-automotive-components/saudi-arabia-used-car-market-outlook-to-2025/356552-100.html) \n",
    "- [kaggledatasets Saudi Arabia Used Cars](https://www.kaggle.com/datasets/turkibintalib/saudi-arabia-used-cars-dataset?select=UsedCarsSA_Clean_EN.csv)\n",
    "- [Platform perusahaan datasets](https://syarah.com/)\n",
    "- [Pendapatan perkapita Arab Saudi](https://id.tradingeconomics.com/saudi-arabia/gdp-per-capita)\n",
    "- [Extreme Gradient Boost](https://www.geeksforgeeks.org/xgboost/)\n",
    "- [Extreme Gradient Boost 2](https://xgboost.readthedocs.io/en/stable/index.html)\n",
    "****\n",
    "### **Contents**\n",
    "\n",
    "1. Business Problem Understanding\n",
    "2. Data Understanding\n",
    "3. Data Preprocessing\n",
    "4. Modeling\n",
    "5. Conclusion\n",
    "6. Recommendation\n",
    "\n",
    "****"
   ]
  },
  {
   "cell_type": "markdown",
   "metadata": {},
   "source": [
    "### ***1. Business Problem Understanding***"
   ]
  },
  {
   "cell_type": "markdown",
   "metadata": {},
   "source": [
    "***Context***\n",
    "**Latar Belakang**\n",
    "\n",
    "Transportasi menjadi alat yang vital dalam menunjang kehidupan manusia. Salah satu jenis transportasi yang paling banyak diminati di Arab Saudi adalah mobil. Mobil menjadi kebutuhan transportasi tingkat primer dibandingkan dengan motor di Arab Saudi. Karena suhu yang tinggi di Arab, membuat kendaraan motor sangat tidak diminati dan membuat kendaraan mobil lebih banyak dicari. Selain hal tadi dengan dihilangkannya aturan wanita yang dilarang untuk bekerja dan mengemudi pada 2019, membuat mobil semakin banyak diminati. Artikel yang memuat tentang *Market Opportunity* mobil bekas di Arab Saudi, mengatakan bahwa rasio membeli mobil bekas dibandingkan mobil baru adalah 2 : 1. Hal ini masih bisa meningkat seiring berjalannya waktu dikarenakan pertumbuhan ekonomi yang baik di Arab Saudi.\n",
    "<br>\n",
    "<br>\n",
    "Karena banyaknya mobil bekas yang diminati, terdapat sejumlah platform pada *website* seperti syarah.com yang tertarik sebagai media jual-beli mobil bekas. syarah.com yang berdiri sejak 2015 menjadi salah satu platform jual-beli mobil bekas terbesar di Arab Saudi. Di syarah.com, pelanggan dapat memilih mobil sesuai keinginan mereka dengan mencocokkan spesifikasi dan harga yang diinginkan. Pada web tersebut juga banyak fitur-fitur yang diperlihatkan sehingga spesifikasi mobil semakin lengkap. Semakin tinggi spesifikasi mobil yang dimiliki, maka semakin tinggi pula harga mobil yang dipasang. JIka berbicara lebih *detail* tentang harga, penentuan harga sebuah mobil bekas akan semakin rumit mengingat sulitnya menentukan harga pasaran dengan melihat spesifikasi yang begitu banyak. Belum lagi munculnya fitur-fitur baru pada mobil terkini yang membuat harga mobil bekas semakin turun. Penentuan harga mobil bekas tidak serta merta dapat dihitung dengan mudah. Oleh sebab itu, dibutuhkannya sebuah *tools* yang bernama *machine learning* untuk membuat harga mobil bekas lebih akurat.\n",
    "<br>\n",
    "<br>\n",
    "*Machine learning* memiliki kemampuan untuk mempelajari berbagai data transaksi sebelumnya dan akan menghasilkan sebuah model yang dapat digunakan oleh perusahaan seperti syarah.com. Dengan adanya *machine learning*, diharapkan harga akan semakin kompetitif di pasaran jual-beli mobil bekas. Alasan lain mengapa dibutuhkannya *tools* ini karena tidak semua calon penjual mengerti tentang spesifikasi yang dimiliki mobil mereka. Jika mereka (penjual) menjual dengan harga yang tinggi, maka mobilnya akan menjadi sulit terjual. Begitu juga sebaliknya jika harga jual terlalu rendah, maka keuntungan yang didapat semakin kecil. Belum lagi syarah.com juga ambil bagian dari hasil transaksi penjualan mobil yang terjadi. Pada akhirnya *machine learning* diharapkan akan membuat seluruh elemen di dunial jual-beli mobil bekas baik itu perusahaan (syarah.com), calon pembeli maupun calon penjual, akan sama-sama diuntungkan dengan diberikannya harga mobil bekas yang akurat dan kompetitif.\n",
    "\n"
   ]
  },
  {
   "cell_type": "markdown",
   "metadata": {},
   "source": [
    "![gambar arab](https://media.architecturaldigest.in/wp-content/uploads/2019/05/saudi-saudi-arabia-residency-permanent-residence-expats.jpg)"
   ]
  },
  {
   "cell_type": "markdown",
   "metadata": {},
   "source": [
    "***Problem Statement***\n",
    "\n",
    "Permasalahan akan berdampak langsung kepada perusahaan dan calon penjual dikarenakan bagi calon pembeli, harga yang murah di bawah standar pasaran pasti akan banyak diminati. Bagi perusahaan, pemecahan masalah untuk mendapatkan model bisnis yang baik akan berdampak positif dengan membuat finansial dan *user experience* calon penjual dan pembeli menjadi lebih baik sehingga lebih banyak diminati.\n",
    "<br>\n",
    "<br>\n",
    "Sedangkan bagi calon penjual, model bisnis yang dihasilkan dari perusahaan akan membuat waktu yang digunakan untuk riset harga mobil bekas semakin terpangkas. Tidak lupa harga penjualan akan dijajakan secara kompetitif sehingga keuntungan yang diambil semakin maksimal.\n",
    "<br>\n",
    "<br>\n",
    "Bagi calon pembeli, waktu yang mereka gunakan untuk membandingkan harga juga akan berkurang. Hal ini disebabkan jika model bisnis perusahaan dapat dihasilkan, maka seluruh harga yang ada di platform tersebut adalah harga yang kompetitif sehingga tidak perlu khawatir harga yang mereka lihat apakah terlalu mahal atau terlalu murah.\n",
    "<br>\n",
    "<br>\n",
    "Dengan banyaknya berbagai spesifikasi dan kondisi pada mobil bekas, **perusahaan diharapkan mampu memberikan model bisnis yang baik dalam menentukan harga yang akurat** supaya banyak calon pembeli atau pelanggan yang semakin tertarik pada perusahaan ini. Calon pembeli juga akan diberikan kemudahan dalam menentukan spesifikasi dan harga yang diinginkan tanpa khawatir apakah pilihannya salah atau sudah tepat. Harga yang akurat dan kemudahan inilah yang dapat menarik minat banyak pelanggan untuk belanja di perusahaan ini dan tentu saja akan meningkatkan pendapatan finansial perusahaan"
   ]
  },
  {
   "cell_type": "markdown",
   "metadata": {},
   "source": [
    "***Goals***\n",
    "\n",
    "Berdasarkan permasalahan tersebut, perusahaan syarah.com perlu memiliki *tools* supaya calon pembeli dapat menentukan mobil impian mereka dengan melihat berbagai spesifikasi dan harga yang akurat sesuai keinginan dan kebutuhan mereka. Variabel-variabel spesifikasi mobil seperti merk mobil, tahun mobil, jarak tempuh dan lain-lain diharapkan mampu meningkatkan akurasi yang baik dalam menentukan harga mobil. Hal inilah yang membuat harga mobil mampu bersaing di pasaran sehingga perusahaanpun dapat mengambil keuntungan semaksimal mungkin."
   ]
  },
  {
   "cell_type": "markdown",
   "metadata": {},
   "source": [
    "***Analytic Approach***\n",
    "\n",
    "Hal pertama yang harus dilakukan adalah dengan menganalisis seluruh data supaya dapat menemukan pola dari fitur-fitur yang diberikan dan yang membedakan antara satu mobil dengan yang lainnya. Langkah selanjutnya akan dibuat sebuah model regresi yang akan membantu perusahaan untuk dapat menyediakan *tool* prediksi harga mobil bekas. Penentuan model regresi akan ditentukan dengan melihat matrix evaluasi terbaik sehingga *final model* dari *machine learning* dapat ditentukan."
   ]
  },
  {
   "cell_type": "markdown",
   "metadata": {},
   "source": [
    "***Metric Evaluation***"
   ]
  },
  {
   "cell_type": "markdown",
   "metadata": {},
   "source": [
    "Pada model yang akan dibuat saat pembersihan data *outliers*, hanya data *outliers* yang bernilai ekstrem saja yang akan dihapus. Oleh karena itu, data tetap akan memiliki sejumlah *outliers* yang didiamkan. Hal ini membuat pada model ini *metric evaluation* yang akan digunakan adalah *metric-metric* yang tidak sensitif terhadap *outliers*. *Metric* seperti MSE, RMSE, dan RMSPE tidak cocok digunakan pada data ini karena sangat sensitif terhadap data *outliers*. *Metric evaluation* yang akan digunakan adalah:\n",
    "\n",
    "1. R-Square:\n",
    "<br>\n",
    "<br>\n",
    "*Metric* ini merepresentasikan berapa persen seluruh *feature* mempengaruhi *target*. Semakin tinggi nilai persentasenya, maka semakin besar pula *feature* mempengaruhi *target*. *Metric* ini hanya akan digunakan saat pemilihan *base* model karena dari tiap model dapat terlihat jelas berapa besar persentase pengaruh *feature* dari tiap model yang mempengaruhi *target*. Karena bentuknya persentase, nilai dari *metric* ini bernilai 0 sampai 1.\n",
    "\n",
    "2. MAE (Mean Absolute Error)\n",
    "<br>\n",
    "<br>\n",
    "*Metric* ini merepresentasikan rata-rata hasil selisih absolut dari hasil prediksi dengan hasil sebenarnya. *Metric* ini dianjurkan karena data yang dipakai adalah data yang memiliki sejumlah *outliers*. Dikarenakan nilai yang absolut, maka *metric* ini tidak mempedulikan selisih yang hasilnya negatif. Semakin kecil nilai *metric* ini semakin baik pula hasil prediksi yang didapat\n",
    "\n",
    "3. MAPE (Mean Absolute Percentage Error)\n",
    "<br>\n",
    "<br>\n",
    "*Metric* ini merepresentasikan rata-rata persentase hasil selisih absolut dari hasil prediksi dengan hasil sebenarnya. Perbedaan dengan MAE, *metric* ini perlu merubah hasil selisih menjadi persentase saja. Karena bentuknya persentase, nilai dari *metric* ini bernilai 0 sampai 1.\n",
    "\n",
    "4. RMSLE (Root Mean Squared Log Error)\n",
    "<br>\n",
    "<br>\n",
    "*Metric* ini digunakan ketika data terlalu *right skewed* dengan variance yang dari kecil hingga sangat besar. Perbedaan variance yang besar dapat diatasi karena perhitungan RMSLE adalah dengan mengubah terlebih dahulu ke skala logaritmik kemudian dirata-ratakan dan diakar. Datasets ini memenuhi syarat-syarat tadi sehingga *metric* ini cocok digunakan untuk hasil evaluasi dari model.\n"
   ]
  },
  {
   "cell_type": "markdown",
   "metadata": {},
   "source": [
    "### ***2. Data Understanding***"
   ]
  },
  {
   "cell_type": "markdown",
   "metadata": {},
   "source": [
    "- Deskripsi dari tiap kolom didapat berdasarkan *domain knowledge* yang dipelajari.\n",
    "- Dataset merupakan data daftar harga mobil dari syarah.com di Saudi Arabia.\n",
    "- Setiap baris data merepresentasikan informasi terkait informasi spesifikasi mobil hingga harga mobil.\n",
    "\n",
    "**Attributes Information**\n",
    "\n",
    "| **Attribute** | **Data Type** | **Description** |\n",
    "| --- | --- | --- |\n",
    "| Type | Object | Merek mobil |\n",
    "| Region | Object | Daerah penjualan mobil bekas |\n",
    "| Make | Object | Nama perusahaan pembuat mobil |\n",
    "| Gear_Type | Object | Tipe gear yang digunakan (Automatic / Manual) |\n",
    "| Origin | Object | Negara pengimpor mobil (Gulf / Saudi / Other / Unknown) |\n",
    "| Options | Object | Option used (Full Options / Semi-Full / Standard) |\n",
    "| Year | Integer | Tahun pembuatan mobil |\n",
    "| Engine_Size | Float | Ukuran mesin mobil |\n",
    "| Mileage | Integer | Jarak yang sudah ditempuh kendaraan (KM) |\n",
    "| Negotiable | Boolean | Jika True, maka harga adalah 0 karena harga ditentukan lewat negosiasi |\n",
    "| Price | Integer | Harga mobil bekas (SAR) |\n",
    "\n",
    "<br>\n",
    "\n",
    "\"Price\" akan menjadi label atau *target* kolom yang akan diprediksi (*dependent variable*), kolom lain akan menjadi *predictor* variabel / *independent variable* yang akan memprediksi \"Price\"."
   ]
  },
  {
   "cell_type": "code",
   "execution_count": 279,
   "metadata": {},
   "outputs": [],
   "source": [
    "# Import library yang dibutuhkan untuk eksplorasi dataset\n",
    "import pandas as pd \n",
    "import numpy as np\n",
    "import matplotlib.pyplot as plt\n",
    "import seaborn as sns\n",
    "\n",
    "import warnings\n",
    "warnings.filterwarnings('ignore')"
   ]
  },
  {
   "cell_type": "code",
   "execution_count": 280,
   "metadata": {},
   "outputs": [
    {
     "data": {
      "text/html": [
       "<div>\n",
       "<style scoped>\n",
       "    .dataframe tbody tr th:only-of-type {\n",
       "        vertical-align: middle;\n",
       "    }\n",
       "\n",
       "    .dataframe tbody tr th {\n",
       "        vertical-align: top;\n",
       "    }\n",
       "\n",
       "    .dataframe thead th {\n",
       "        text-align: right;\n",
       "    }\n",
       "</style>\n",
       "<table border=\"1\" class=\"dataframe\">\n",
       "  <thead>\n",
       "    <tr style=\"text-align: right;\">\n",
       "      <th></th>\n",
       "      <th>Type</th>\n",
       "      <th>Region</th>\n",
       "      <th>Make</th>\n",
       "      <th>Gear_Type</th>\n",
       "      <th>Origin</th>\n",
       "      <th>Options</th>\n",
       "      <th>Year</th>\n",
       "      <th>Engine_Size</th>\n",
       "      <th>Mileage</th>\n",
       "      <th>Negotiable</th>\n",
       "      <th>Price</th>\n",
       "    </tr>\n",
       "  </thead>\n",
       "  <tbody>\n",
       "    <tr>\n",
       "      <th>0</th>\n",
       "      <td>Corolla</td>\n",
       "      <td>Abha</td>\n",
       "      <td>Toyota</td>\n",
       "      <td>Manual</td>\n",
       "      <td>Saudi</td>\n",
       "      <td>Standard</td>\n",
       "      <td>2013</td>\n",
       "      <td>1.4</td>\n",
       "      <td>421000</td>\n",
       "      <td>True</td>\n",
       "      <td>0</td>\n",
       "    </tr>\n",
       "    <tr>\n",
       "      <th>1</th>\n",
       "      <td>Yukon</td>\n",
       "      <td>Riyadh</td>\n",
       "      <td>GMC</td>\n",
       "      <td>Automatic</td>\n",
       "      <td>Saudi</td>\n",
       "      <td>Full</td>\n",
       "      <td>2014</td>\n",
       "      <td>8.0</td>\n",
       "      <td>80000</td>\n",
       "      <td>False</td>\n",
       "      <td>120000</td>\n",
       "    </tr>\n",
       "    <tr>\n",
       "      <th>2</th>\n",
       "      <td>Range Rover</td>\n",
       "      <td>Riyadh</td>\n",
       "      <td>Land Rover</td>\n",
       "      <td>Automatic</td>\n",
       "      <td>Gulf Arabic</td>\n",
       "      <td>Full</td>\n",
       "      <td>2015</td>\n",
       "      <td>5.0</td>\n",
       "      <td>140000</td>\n",
       "      <td>False</td>\n",
       "      <td>260000</td>\n",
       "    </tr>\n",
       "    <tr>\n",
       "      <th>3</th>\n",
       "      <td>Optima</td>\n",
       "      <td>Hafar Al-Batin</td>\n",
       "      <td>Kia</td>\n",
       "      <td>Automatic</td>\n",
       "      <td>Saudi</td>\n",
       "      <td>Semi Full</td>\n",
       "      <td>2015</td>\n",
       "      <td>2.4</td>\n",
       "      <td>220000</td>\n",
       "      <td>False</td>\n",
       "      <td>42000</td>\n",
       "    </tr>\n",
       "    <tr>\n",
       "      <th>4</th>\n",
       "      <td>FJ</td>\n",
       "      <td>Riyadh</td>\n",
       "      <td>Toyota</td>\n",
       "      <td>Automatic</td>\n",
       "      <td>Saudi</td>\n",
       "      <td>Full</td>\n",
       "      <td>2020</td>\n",
       "      <td>4.0</td>\n",
       "      <td>49000</td>\n",
       "      <td>True</td>\n",
       "      <td>0</td>\n",
       "    </tr>\n",
       "    <tr>\n",
       "      <th>...</th>\n",
       "      <td>...</td>\n",
       "      <td>...</td>\n",
       "      <td>...</td>\n",
       "      <td>...</td>\n",
       "      <td>...</td>\n",
       "      <td>...</td>\n",
       "      <td>...</td>\n",
       "      <td>...</td>\n",
       "      <td>...</td>\n",
       "      <td>...</td>\n",
       "      <td>...</td>\n",
       "    </tr>\n",
       "    <tr>\n",
       "      <th>5619</th>\n",
       "      <td>X-Trail</td>\n",
       "      <td>Jeddah</td>\n",
       "      <td>Nissan</td>\n",
       "      <td>Automatic</td>\n",
       "      <td>Saudi</td>\n",
       "      <td>Standard</td>\n",
       "      <td>2018</td>\n",
       "      <td>2.5</td>\n",
       "      <td>78794</td>\n",
       "      <td>False</td>\n",
       "      <td>68000</td>\n",
       "    </tr>\n",
       "    <tr>\n",
       "      <th>5620</th>\n",
       "      <td>Altima</td>\n",
       "      <td>Jeddah</td>\n",
       "      <td>Nissan</td>\n",
       "      <td>Automatic</td>\n",
       "      <td>Saudi</td>\n",
       "      <td>Semi Full</td>\n",
       "      <td>2020</td>\n",
       "      <td>2.5</td>\n",
       "      <td>58000</td>\n",
       "      <td>True</td>\n",
       "      <td>0</td>\n",
       "    </tr>\n",
       "    <tr>\n",
       "      <th>5621</th>\n",
       "      <td>Yukon</td>\n",
       "      <td>Dammam</td>\n",
       "      <td>GMC</td>\n",
       "      <td>Automatic</td>\n",
       "      <td>Saudi</td>\n",
       "      <td>Full</td>\n",
       "      <td>2016</td>\n",
       "      <td>5.3</td>\n",
       "      <td>48000</td>\n",
       "      <td>False</td>\n",
       "      <td>145000</td>\n",
       "    </tr>\n",
       "    <tr>\n",
       "      <th>5622</th>\n",
       "      <td>RX</td>\n",
       "      <td>Dammam</td>\n",
       "      <td>Lexus</td>\n",
       "      <td>Automatic</td>\n",
       "      <td>Gulf Arabic</td>\n",
       "      <td>Full</td>\n",
       "      <td>2016</td>\n",
       "      <td>2.5</td>\n",
       "      <td>81000</td>\n",
       "      <td>False</td>\n",
       "      <td>154000</td>\n",
       "    </tr>\n",
       "    <tr>\n",
       "      <th>5623</th>\n",
       "      <td>ES</td>\n",
       "      <td>Jeddah</td>\n",
       "      <td>Lexus</td>\n",
       "      <td>Automatic</td>\n",
       "      <td>Other</td>\n",
       "      <td>Full</td>\n",
       "      <td>2017</td>\n",
       "      <td>3.5</td>\n",
       "      <td>115000</td>\n",
       "      <td>True</td>\n",
       "      <td>0</td>\n",
       "    </tr>\n",
       "  </tbody>\n",
       "</table>\n",
       "<p>5624 rows × 11 columns</p>\n",
       "</div>"
      ],
      "text/plain": [
       "             Type          Region        Make  Gear_Type       Origin  \\\n",
       "0         Corolla            Abha      Toyota     Manual        Saudi   \n",
       "1           Yukon          Riyadh         GMC  Automatic        Saudi   \n",
       "2     Range Rover          Riyadh  Land Rover  Automatic  Gulf Arabic   \n",
       "3          Optima  Hafar Al-Batin         Kia  Automatic        Saudi   \n",
       "4              FJ          Riyadh      Toyota  Automatic        Saudi   \n",
       "...           ...             ...         ...        ...          ...   \n",
       "5619      X-Trail          Jeddah      Nissan  Automatic        Saudi   \n",
       "5620       Altima          Jeddah      Nissan  Automatic        Saudi   \n",
       "5621        Yukon          Dammam         GMC  Automatic        Saudi   \n",
       "5622           RX          Dammam       Lexus  Automatic  Gulf Arabic   \n",
       "5623           ES          Jeddah       Lexus  Automatic        Other   \n",
       "\n",
       "        Options  Year  Engine_Size  Mileage  Negotiable   Price  \n",
       "0      Standard  2013          1.4   421000        True       0  \n",
       "1          Full  2014          8.0    80000       False  120000  \n",
       "2          Full  2015          5.0   140000       False  260000  \n",
       "3     Semi Full  2015          2.4   220000       False   42000  \n",
       "4          Full  2020          4.0    49000        True       0  \n",
       "...         ...   ...          ...      ...         ...     ...  \n",
       "5619   Standard  2018          2.5    78794       False   68000  \n",
       "5620  Semi Full  2020          2.5    58000        True       0  \n",
       "5621       Full  2016          5.3    48000       False  145000  \n",
       "5622       Full  2016          2.5    81000       False  154000  \n",
       "5623       Full  2017          3.5   115000        True       0  \n",
       "\n",
       "[5624 rows x 11 columns]"
      ]
     },
     "execution_count": 280,
     "metadata": {},
     "output_type": "execute_result"
    }
   ],
   "source": [
    "# Load dataset\n",
    "df = pd.read_csv('data_saudi_used_cars.csv')\n",
    "df"
   ]
  },
  {
   "cell_type": "code",
   "execution_count": 281,
   "metadata": {},
   "outputs": [
    {
     "name": "stdout",
     "output_type": "stream",
     "text": [
      "<class 'pandas.core.frame.DataFrame'>\n",
      "RangeIndex: 5624 entries, 0 to 5623\n",
      "Data columns (total 11 columns):\n",
      " #   Column       Non-Null Count  Dtype  \n",
      "---  ------       --------------  -----  \n",
      " 0   Type         5624 non-null   object \n",
      " 1   Region       5624 non-null   object \n",
      " 2   Make         5624 non-null   object \n",
      " 3   Gear_Type    5624 non-null   object \n",
      " 4   Origin       5624 non-null   object \n",
      " 5   Options      5624 non-null   object \n",
      " 6   Year         5624 non-null   int64  \n",
      " 7   Engine_Size  5624 non-null   float64\n",
      " 8   Mileage      5624 non-null   int64  \n",
      " 9   Negotiable   5624 non-null   bool   \n",
      " 10  Price        5624 non-null   int64  \n",
      "dtypes: bool(1), float64(1), int64(3), object(6)\n",
      "memory usage: 445.0+ KB\n"
     ]
    }
   ],
   "source": [
    "df.info()"
   ]
  },
  {
   "cell_type": "markdown",
   "metadata": {},
   "source": [
    "Dari informasi di atas, kita mengetahui bahwa terdapat 5624 index dan 11 kolom di dalam datasets dengan komposisi sebagai berikut:\n",
    "\n",
    "1. 6 tipe data object\n",
    "2. 3 data integer\n",
    "3. 1 data float\n",
    "4. 1 data boolean"
   ]
  },
  {
   "cell_type": "markdown",
   "metadata": {},
   "source": [
    "### ***3. Data Preprocessing***"
   ]
  },
  {
   "cell_type": "markdown",
   "metadata": {},
   "source": [
    "Dalam menganalisis data, kualtias data sangat menentukan hasil akhirnya. Sebaik apapun hasil analisis yang didapat jika kualitas data rendah, maka hasilnya akan bias atau tidak memuaskan. Penentuan apakah kualitas data sudah baik atau belum ditentukan pada proses ini. Proses ini akan mengecek berbagai kesalahan yang ada pada data seperti *missing value*, duplikat data, dll dari *raw* data atau data mentah menjadi data yang siap digunakan untuk dianalisa lebih lanjut."
   ]
  },
  {
   "cell_type": "markdown",
   "metadata": {},
   "source": [
    "#### 3.1. *Check Missing Value*"
   ]
  },
  {
   "cell_type": "code",
   "execution_count": 282,
   "metadata": {},
   "outputs": [
    {
     "data": {
      "text/html": [
       "<div>\n",
       "<style scoped>\n",
       "    .dataframe tbody tr th:only-of-type {\n",
       "        vertical-align: middle;\n",
       "    }\n",
       "\n",
       "    .dataframe tbody tr th {\n",
       "        vertical-align: top;\n",
       "    }\n",
       "\n",
       "    .dataframe thead th {\n",
       "        text-align: right;\n",
       "    }\n",
       "</style>\n",
       "<table border=\"1\" class=\"dataframe\">\n",
       "  <thead>\n",
       "    <tr style=\"text-align: right;\">\n",
       "      <th></th>\n",
       "      <th>Data Features</th>\n",
       "      <th>Data Types</th>\n",
       "      <th>Null</th>\n",
       "      <th>Null Percentage</th>\n",
       "      <th>Unique</th>\n",
       "      <th>Unique Sample</th>\n",
       "    </tr>\n",
       "  </thead>\n",
       "  <tbody>\n",
       "    <tr>\n",
       "      <th>0</th>\n",
       "      <td>Type</td>\n",
       "      <td>object</td>\n",
       "      <td>0</td>\n",
       "      <td>0.0</td>\n",
       "      <td>347</td>\n",
       "      <td>[Vego]</td>\n",
       "    </tr>\n",
       "    <tr>\n",
       "      <th>1</th>\n",
       "      <td>Region</td>\n",
       "      <td>object</td>\n",
       "      <td>0</td>\n",
       "      <td>0.0</td>\n",
       "      <td>27</td>\n",
       "      <td>[Al-Jouf]</td>\n",
       "    </tr>\n",
       "    <tr>\n",
       "      <th>2</th>\n",
       "      <td>Make</td>\n",
       "      <td>object</td>\n",
       "      <td>0</td>\n",
       "      <td>0.0</td>\n",
       "      <td>58</td>\n",
       "      <td>[HAVAL]</td>\n",
       "    </tr>\n",
       "    <tr>\n",
       "      <th>3</th>\n",
       "      <td>Gear_Type</td>\n",
       "      <td>object</td>\n",
       "      <td>0</td>\n",
       "      <td>0.0</td>\n",
       "      <td>2</td>\n",
       "      <td>[Manual]</td>\n",
       "    </tr>\n",
       "    <tr>\n",
       "      <th>4</th>\n",
       "      <td>Origin</td>\n",
       "      <td>object</td>\n",
       "      <td>0</td>\n",
       "      <td>0.0</td>\n",
       "      <td>4</td>\n",
       "      <td>[Gulf Arabic]</td>\n",
       "    </tr>\n",
       "    <tr>\n",
       "      <th>5</th>\n",
       "      <td>Options</td>\n",
       "      <td>object</td>\n",
       "      <td>0</td>\n",
       "      <td>0.0</td>\n",
       "      <td>3</td>\n",
       "      <td>[Standard]</td>\n",
       "    </tr>\n",
       "    <tr>\n",
       "      <th>6</th>\n",
       "      <td>Year</td>\n",
       "      <td>int64</td>\n",
       "      <td>0</td>\n",
       "      <td>0.0</td>\n",
       "      <td>50</td>\n",
       "      <td>[1977]</td>\n",
       "    </tr>\n",
       "    <tr>\n",
       "      <th>7</th>\n",
       "      <td>Engine_Size</td>\n",
       "      <td>float64</td>\n",
       "      <td>0</td>\n",
       "      <td>0.0</td>\n",
       "      <td>71</td>\n",
       "      <td>[4.2]</td>\n",
       "    </tr>\n",
       "    <tr>\n",
       "      <th>8</th>\n",
       "      <td>Mileage</td>\n",
       "      <td>int64</td>\n",
       "      <td>0</td>\n",
       "      <td>0.0</td>\n",
       "      <td>1716</td>\n",
       "      <td>[16000]</td>\n",
       "    </tr>\n",
       "    <tr>\n",
       "      <th>9</th>\n",
       "      <td>Negotiable</td>\n",
       "      <td>bool</td>\n",
       "      <td>0</td>\n",
       "      <td>0.0</td>\n",
       "      <td>2</td>\n",
       "      <td>[False]</td>\n",
       "    </tr>\n",
       "    <tr>\n",
       "      <th>10</th>\n",
       "      <td>Price</td>\n",
       "      <td>int64</td>\n",
       "      <td>0</td>\n",
       "      <td>0.0</td>\n",
       "      <td>467</td>\n",
       "      <td>[149500]</td>\n",
       "    </tr>\n",
       "  </tbody>\n",
       "</table>\n",
       "</div>"
      ],
      "text/plain": [
       "   Data Features Data Types  Null  Null Percentage  Unique  Unique Sample\n",
       "0           Type     object     0              0.0     347         [Vego]\n",
       "1         Region     object     0              0.0      27      [Al-Jouf]\n",
       "2           Make     object     0              0.0      58        [HAVAL]\n",
       "3      Gear_Type     object     0              0.0       2       [Manual]\n",
       "4         Origin     object     0              0.0       4  [Gulf Arabic]\n",
       "5        Options     object     0              0.0       3     [Standard]\n",
       "6           Year      int64     0              0.0      50         [1977]\n",
       "7    Engine_Size    float64     0              0.0      71          [4.2]\n",
       "8        Mileage      int64     0              0.0    1716        [16000]\n",
       "9     Negotiable       bool     0              0.0       2        [False]\n",
       "10         Price      int64     0              0.0     467       [149500]"
      ]
     },
     "execution_count": 282,
     "metadata": {},
     "output_type": "execute_result"
    }
   ],
   "source": [
    "listdesc = []\n",
    "for col in df.columns:\n",
    "    listdesc.append([col,\n",
    "                     df[col].dtypes,\n",
    "                     df[col].isna().sum(),\n",
    "                     round((df[col].isna().sum()/len(df)*100),2),\n",
    "                     df[col].nunique(),\n",
    "                     df[col].drop_duplicates().sample(1).values])\n",
    "\n",
    "pd.DataFrame(listdesc, columns=['Data Features',\n",
    "                               'Data Types',\n",
    "                               'Null',\n",
    "                               'Null Percentage',\n",
    "                               'Unique',\n",
    "                               'Unique Sample'])"
   ]
  },
  {
   "cell_type": "markdown",
   "metadata": {},
   "source": [
    "Dari informasi di atas terlihat bahwa data sudah bersih dengan kolom \"Null\" bernilai 0 semua untuk tiap indexnya."
   ]
  },
  {
   "cell_type": "markdown",
   "metadata": {},
   "source": [
    "#### 3.2. *Check* Data Duplikat"
   ]
  },
  {
   "cell_type": "code",
   "execution_count": 283,
   "metadata": {},
   "outputs": [
    {
     "name": "stdout",
     "output_type": "stream",
     "text": [
      "Jumlah data yang duplikat:  4\n"
     ]
    }
   ],
   "source": [
    "print(\"Jumlah data yang duplikat: \", sum(df.duplicated()))"
   ]
  },
  {
   "cell_type": "markdown",
   "metadata": {},
   "source": [
    "Terdapat 4 index yang datanya terduplikat. Maka dari itu kita akan menghapus data duplikat tersebut."
   ]
  },
  {
   "cell_type": "code",
   "execution_count": 284,
   "metadata": {},
   "outputs": [
    {
     "name": "stdout",
     "output_type": "stream",
     "text": [
      "Jumlah data yang duplikat:  0\n"
     ]
    }
   ],
   "source": [
    "df.drop_duplicates(inplace=True)\n",
    "\n",
    "print(\"Jumlah data yang duplikat: \", sum(df.duplicated()))"
   ]
  },
  {
   "cell_type": "markdown",
   "metadata": {},
   "source": [
    "#### 3.3. *Drop Irrelevant Columns* / *Feature Selection*"
   ]
  },
  {
   "cell_type": "markdown",
   "metadata": {},
   "source": [
    "Dalam menganalisa nanti, kita perlu menghapus kolom mana saja yang tidak diperlukan berdasarkan domain knowledge yang dimiliki."
   ]
  },
  {
   "cell_type": "markdown",
   "metadata": {},
   "source": [
    "**Attributes Information**\n",
    "\n",
    "| **Attribute** | **Data Type** | **Description** |\n",
    "| --- | --- | --- |\n",
    "| Type | Object | Merek mobil |\n",
    "| Region | Object | Daerah penjualan mobil bekas |\n",
    "| Make | Object | Nama perusahaan pembuat mobil |\n",
    "| Gear_Type | Object | Tipe gear yang digunakan (Automatic / Manual) |\n",
    "| Origin | Object | Negara pengimpor mobil (Gulf / Saudi / Other) |\n",
    "| Options | Object | Option used (Full Options / Semi-Full / Standard) |\n",
    "| Year | Integer | Tahun pembuatan mobil |\n",
    "| Engine_Size | Float | Ukuran mesin mobil |\n",
    "| Mileage | Integer | Jarak yang sudah ditempuh kendaraan (KM) |\n",
    "| Negotiable | Boolean | Jika True, maka harga adalah 0 karena harga ditentukan lewat negosiasi |\n",
    "| Price | Integer | Harga mobil bekas (SAR) |"
   ]
  },
  {
   "cell_type": "markdown",
   "metadata": {},
   "source": [
    "##### 3.3.1. *Feature's* \"Negotiable\" "
   ]
  },
  {
   "cell_type": "markdown",
   "metadata": {},
   "source": [
    "Kemudian kita akan menghapus *feature* \"Negotiable\" karena dalam pembuatan model machine learning kita harus memiliki harga yang pasti dalam penjualan mobil bekas. Dilihat dari datasets, nilai \"Price\" yang harganya 0 dikarenakan *feature* \"Negotiable\" yang bernilai *True*. Hal ini menandakan harga tersebut ditentukan melalui negosiasi yang membuat kepastian harga sebuah mobil bekas menjadi bias. Maka dari itu kita akan menghapus *feature* \"Negotiable\""
   ]
  },
  {
   "cell_type": "code",
   "execution_count": 285,
   "metadata": {},
   "outputs": [],
   "source": [
    "df.drop(columns=['Negotiable'], inplace=True) "
   ]
  },
  {
   "cell_type": "markdown",
   "metadata": {},
   "source": [
    "##### 3.3.2. *Feature's* \"Origin\" "
   ]
  },
  {
   "cell_type": "markdown",
   "metadata": {},
   "source": [
    "Berdasarkan artikel yang dimuat pada [kenresearch.com](https://www.kenresearch.com/blog/2020/09/future-of-saudi-arabia-used-car-market-growth-rate-ken-research/), tidak ada parameter atau pengaruh penjualan mobil bekas di Arab Saudi berdasarkan negara pengimpor mobil. Maka dari itu kita akan menghapus *feature* \"Origin\"."
   ]
  },
  {
   "cell_type": "code",
   "execution_count": 286,
   "metadata": {},
   "outputs": [],
   "source": [
    "df.drop(columns=['Origin'], inplace=True) "
   ]
  },
  {
   "cell_type": "markdown",
   "metadata": {},
   "source": [
    "Setelah mendapatkan data dengan menghapus *features* yang tidak perlu, *features* yang tersisa semakin sedikit. Jika dianalisa menggunakan *domain knowledge*, tidak ada lagi *feature* yang perlu dihapus sehingga proses *feature selection* berhenti sampai di sini. Jika proses *feature selection* dilakukan kembali di luar *domain knowledge*, dikhawatirkan model yang dibuat akan menjadi *underfitting* karena kurangnya *features* dari datasets."
   ]
  },
  {
   "cell_type": "markdown",
   "metadata": {},
   "source": [
    "#### 3.4. *Drop Irrelevant Indices*"
   ]
  },
  {
   "cell_type": "markdown",
   "metadata": {},
   "source": [
    "Dalam menganalisa nanti, kita perlu menghapus index mana saja yang tidak diperlukan berdasarkan domain knowledge yang dimiliki. Dalam menganalisa data tentu kita akan berpikir bahwa data *outlier* sangat mengganggu. Namun tidak semua data *outlier* harus dihapus karena penempatan data tersebut benar apa adanya berdasarkan fakta dan realita yang dapat diterima. Dalam ilmu tentang data, kita sering membuat asumsi tentang populasi tertentu. Namun adanya nilai *outlier* yang ekstrem dapat berdampak signifikan pada kesimpulan hasil interpretasi yang kita amati dari data atau model machine learning. Dengan penanganan yang benar kita dapat menganggap data *outlier* yang ekstrem sebagai populasi yang berbeda."
   ]
  },
  {
   "cell_type": "markdown",
   "metadata": {},
   "source": [
    "Sebelum menangani data *outlier* yang ekstrem, terlebih dahulu kita coba melihat bagian index mana saja yang dirasa kurang masuk akal."
   ]
  },
  {
   "cell_type": "code",
   "execution_count": 287,
   "metadata": {},
   "outputs": [
    {
     "data": {
      "text/html": [
       "<div>\n",
       "<style scoped>\n",
       "    .dataframe tbody tr th:only-of-type {\n",
       "        vertical-align: middle;\n",
       "    }\n",
       "\n",
       "    .dataframe tbody tr th {\n",
       "        vertical-align: top;\n",
       "    }\n",
       "\n",
       "    .dataframe thead th {\n",
       "        text-align: right;\n",
       "    }\n",
       "</style>\n",
       "<table border=\"1\" class=\"dataframe\">\n",
       "  <thead>\n",
       "    <tr style=\"text-align: right;\">\n",
       "      <th></th>\n",
       "      <th>Year</th>\n",
       "      <th>Engine_Size</th>\n",
       "      <th>Mileage</th>\n",
       "      <th>Price</th>\n",
       "    </tr>\n",
       "  </thead>\n",
       "  <tbody>\n",
       "    <tr>\n",
       "      <th>count</th>\n",
       "      <td>5620.000000</td>\n",
       "      <td>5620.000000</td>\n",
       "      <td>5.620000e+03</td>\n",
       "      <td>5620.000000</td>\n",
       "    </tr>\n",
       "    <tr>\n",
       "      <th>mean</th>\n",
       "      <td>2014.100356</td>\n",
       "      <td>3.296299</td>\n",
       "      <td>1.509222e+05</td>\n",
       "      <td>53086.404448</td>\n",
       "    </tr>\n",
       "    <tr>\n",
       "      <th>std</th>\n",
       "      <td>5.793003</td>\n",
       "      <td>1.515253</td>\n",
       "      <td>3.829633e+05</td>\n",
       "      <td>70175.153207</td>\n",
       "    </tr>\n",
       "    <tr>\n",
       "      <th>min</th>\n",
       "      <td>1963.000000</td>\n",
       "      <td>1.000000</td>\n",
       "      <td>1.000000e+02</td>\n",
       "      <td>0.000000</td>\n",
       "    </tr>\n",
       "    <tr>\n",
       "      <th>25%</th>\n",
       "      <td>2012.000000</td>\n",
       "      <td>2.000000</td>\n",
       "      <td>3.800000e+04</td>\n",
       "      <td>0.000000</td>\n",
       "    </tr>\n",
       "    <tr>\n",
       "      <th>50%</th>\n",
       "      <td>2016.000000</td>\n",
       "      <td>3.000000</td>\n",
       "      <td>1.030000e+05</td>\n",
       "      <td>36500.000000</td>\n",
       "    </tr>\n",
       "    <tr>\n",
       "      <th>75%</th>\n",
       "      <td>2018.000000</td>\n",
       "      <td>4.500000</td>\n",
       "      <td>1.960000e+05</td>\n",
       "      <td>73000.000000</td>\n",
       "    </tr>\n",
       "    <tr>\n",
       "      <th>max</th>\n",
       "      <td>2022.000000</td>\n",
       "      <td>9.000000</td>\n",
       "      <td>2.000000e+07</td>\n",
       "      <td>850000.000000</td>\n",
       "    </tr>\n",
       "  </tbody>\n",
       "</table>\n",
       "</div>"
      ],
      "text/plain": [
       "              Year  Engine_Size       Mileage          Price\n",
       "count  5620.000000  5620.000000  5.620000e+03    5620.000000\n",
       "mean   2014.100356     3.296299  1.509222e+05   53086.404448\n",
       "std       5.793003     1.515253  3.829633e+05   70175.153207\n",
       "min    1963.000000     1.000000  1.000000e+02       0.000000\n",
       "25%    2012.000000     2.000000  3.800000e+04       0.000000\n",
       "50%    2016.000000     3.000000  1.030000e+05   36500.000000\n",
       "75%    2018.000000     4.500000  1.960000e+05   73000.000000\n",
       "max    2022.000000     9.000000  2.000000e+07  850000.000000"
      ]
     },
     "execution_count": 287,
     "metadata": {},
     "output_type": "execute_result"
    }
   ],
   "source": [
    "df.describe()"
   ]
  },
  {
   "cell_type": "markdown",
   "metadata": {},
   "source": [
    "##### 3.4.1. *Feature* \"Mileage\""
   ]
  },
  {
   "cell_type": "markdown",
   "metadata": {},
   "source": [
    "Pada *feature* ini kita akan melihat apakah ada nilai yang tidak masuk akal, masuk ke dalam datasets. Berdasarkan uraian tabel di atas, kita melihat terdapat nilai maksimum pada *feature* \"Mileage\" dengan nilai 20 juta. Hal ini tentu tidak masuk akal mengingat odometer dari sebuah mobil ketika mencapai jarak tempuh 999.999 KM akan kembali menjadi 0. Oleh karena itu kita akan menghapus index dari *feature* \"Mileage\" yang bernilai lebih dari 999.999."
   ]
  },
  {
   "cell_type": "code",
   "execution_count": 288,
   "metadata": {},
   "outputs": [
    {
     "name": "stdout",
     "output_type": "stream",
     "text": [
      "Jumlah data yang jarak tempuh lebih dari 999.999 KM: 32 data\n"
     ]
    }
   ],
   "source": [
    "print(\"Jumlah data yang jarak tempuh lebih dari 999.999 KM:\",df[df['Mileage'] > 999999]['Mileage'].count(), \"data\")"
   ]
  },
  {
   "cell_type": "code",
   "execution_count": 289,
   "metadata": {},
   "outputs": [],
   "source": [
    "df = df[df['Mileage'] < 1000000]"
   ]
  },
  {
   "cell_type": "markdown",
   "metadata": {},
   "source": [
    "##### 3.4.2. *Target* \"Price\""
   ]
  },
  {
   "cell_type": "markdown",
   "metadata": {},
   "source": [
    "Mari kita cek apakah terdapat harga yang bernilai 0."
   ]
  },
  {
   "cell_type": "code",
   "execution_count": 290,
   "metadata": {},
   "outputs": [
    {
     "name": "stdout",
     "output_type": "stream",
     "text": [
      "Jumlah data yang harganya adalah 0: 1780 data\n"
     ]
    }
   ],
   "source": [
    "print(\"Jumlah data yang harganya adalah 0:\",df[df['Price']==0]['Price'].count(), 'data')"
   ]
  },
  {
   "cell_type": "markdown",
   "metadata": {},
   "source": [
    "Tentu harga 0 sangat tidak masuk akal mengingat 0 merepresentasikan kalimat \"gratis\". Kita cek lagi untuk harga yang tidak masuk akal lainnya. Dalam kasus ini kita akan buat batas minimum harga dari penjualan mobil bekas senilai 3000 SAR. Mengapa 3000 SAR? Karena saya berasumsi mobil-mobil bekas yang dijual pada rentang maksimal 10000 SAR adalah mobil yang harus masuk ke bengkel terlebih dahulu. Kita akan menghapus seluruh harga mobil yang di bawah 3000 SAR. Dengan kurs 1 SAR adalah setara 4000 Rupiah, tentu harga di bawah 12 juta Rupiah (3000 SAR) bagi orang Arab adalah angka yang sangat kecil karena [pendapatan perkapita mereka](https://id.tradingeconomics.com/saudi-arabia/gdp-per-capita) 5 kali lipat lebih besar dibanding orang Indonesia.\n",
    "\n",
    "Andai saja terdapat *feature* tentang \"perlu masuk bengkel terlebih dahulu atau tidak\", kita tidak perlu menghapus data-data tersebut. Karena *feature* tersebut pasti akan membuat harga mobil menjadi miring ke bawah."
   ]
  },
  {
   "cell_type": "code",
   "execution_count": 291,
   "metadata": {},
   "outputs": [
    {
     "name": "stdout",
     "output_type": "stream",
     "text": [
      "Jumlah data yang harganya <= 3000: 1841 data\n"
     ]
    }
   ],
   "source": [
    "print(\"Jumlah data yang harganya <= 3000:\",df[df['Price']<3000]['Price'].count(), 'data')"
   ]
  },
  {
   "cell_type": "code",
   "execution_count": 292,
   "metadata": {},
   "outputs": [],
   "source": [
    "df = df[df['Price'] >= 3000]"
   ]
  },
  {
   "cell_type": "markdown",
   "metadata": {},
   "source": [
    "##### 3.4.3. *Extreme Outliers*"
   ]
  },
  {
   "cell_type": "markdown",
   "metadata": {},
   "source": [
    "Keberadaan data *outlier* memang mempengaruhi hasil model *machine learning* yang akan kita buat. Adakalanya nilai *outlier* bukan berarti data tersebut buruk karena bisa jadi data *outlier* tersebut mengandung informasi yang bisa kita manfaatkan untuk menganalisis data sehingga tidak perlu kita hapus.\n",
    "<br>\n",
    "<br>\n",
    "Dari alasan di atas, pada kasus ini kita akan menghapus data *outlier* yang tergolong ekstrem saja."
   ]
  },
  {
   "cell_type": "markdown",
   "metadata": {},
   "source": [
    "Mari kita cek seluruh data yang memiliki data *outlier* yang hanya memiliki nilai numerik saja."
   ]
  },
  {
   "cell_type": "code",
   "execution_count": 293,
   "metadata": {},
   "outputs": [],
   "source": [
    "def check_outlier(col):\n",
    "    \n",
    "    Q1 = np.percentile(col, 25)\n",
    "    Q3 = np.percentile(col, 75)\n",
    "\n",
    "    IQR = Q3 - Q1\n",
    "\n",
    "    batas_bawah = Q1 - (IQR * 1.5)\n",
    "    batas_atas = Q3 + (IQR * 1.5)\n",
    "\n",
    "    data_outliers = col[(col < batas_bawah) | (col > batas_atas)]\n",
    "    return data_outliers"
   ]
  },
  {
   "cell_type": "code",
   "execution_count": 294,
   "metadata": {},
   "outputs": [
    {
     "name": "stdout",
     "output_type": "stream",
     "text": [
      "Feature Year memiliki 180 outlier\n",
      "Feature Engine_Size memiliki 30 outlier\n",
      "Feature Mileage memiliki 115 outlier\n",
      "Feature Price memiliki 259 outlier\n"
     ]
    }
   ],
   "source": [
    "feature_outlier = []\n",
    "for col in df.select_dtypes(['float','int']):\n",
    "    outliers = check_outlier(df[col])\n",
    "    if len(outliers):\n",
    "        print(f\"Feature\",col, \"memiliki\", len(outliers), \"outlier\")\n",
    "        feature_outlier.append(col)\n",
    "    else:\n",
    "        print(f\"Feature\", col, \"tidak memilik outlier\")"
   ]
  },
  {
   "cell_type": "markdown",
   "metadata": {},
   "source": [
    "Sekarang mari kita lihat secara visualisasi dari tiap data numerik yang memiliki *outlier*. Plot yang digunakan adalah tipe Boxplot karena tipe ini memang dikhususkan untuk melihat data *outlier* secara visualisasi."
   ]
  },
  {
   "cell_type": "code",
   "execution_count": 344,
   "metadata": {},
   "outputs": [
    {
     "data": {
      "image/png": "[encoded data removed]",
      "text/plain": [
       "<Figure size 1440x720 with 4 Axes>"
      ]
     },
     "metadata": {
      "needs_background": "light"
     },
     "output_type": "display_data"
    }
   ],
   "source": [
    "fig, axs = plt.subplots(2, 2, figsize = (20,10))\n",
    "i = 0\n",
    "loca = [axs[0,0], axs[0,1], axs[1,0], axs[1,1]]\n",
    "\n",
    "for col in feature_outlier:\n",
    "    sns.boxplot(df[col], ax = loca[i], color= 'grey')\n",
    "    i += 1\n",
    "    \n",
    "plt.show()"
   ]
  },
  {
   "cell_type": "markdown",
   "metadata": {},
   "source": [
    "Dari plot di atas, ada 2 kolom \"Year\" dan \"Price\" yang memiliki ekstrem *outlier*. Untuk *Feature* \"Year\", kita akan menghapus tahun di bawah 1970 dan *target* \"Price\" yang lebih dari 700000. Dengah dihapusnya \"Year\" di bawah 1970 maka akan didapatkan \"Year terkecil\" adalah 1978. Hal ini yang akan menjadi limitasi dari model yang dibuat. Kemudian untuk \"Price\" setelah dihapus yang lebih dari 700000 akan didapatkan harga termahal sebesar 620000 yang juga akan menjadi limitasi dari model yang dibuat."
   ]
  },
  {
   "cell_type": "code",
   "execution_count": 296,
   "metadata": {},
   "outputs": [],
   "source": [
    "df = df[df['Year'] > 1970]\n",
    "df = df[df['Price'] <= 700000]"
   ]
  },
  {
   "cell_type": "code",
   "execution_count": 297,
   "metadata": {},
   "outputs": [
    {
     "name": "stdout",
     "output_type": "stream",
     "text": [
      "Mobil tertua dari data: 1978 tahun dan harga termahal dari data: 620000 SAR\n"
     ]
    }
   ],
   "source": [
    "print(\"Mobil tertua dari data:\", df['Year'].min(),\"tahun dan harga termahal dari data:\", df['Price'].max(), \"SAR\")"
   ]
  },
  {
   "cell_type": "markdown",
   "metadata": {},
   "source": [
    "#### 3.5 *Check Data Correlation*"
   ]
  },
  {
   "cell_type": "code",
   "execution_count": 298,
   "metadata": {},
   "outputs": [
    {
     "data": {
      "image/png": "[encoded data removed]",
      "text/plain": [
       "<Figure size 1080x864 with 2 Axes>"
      ]
     },
     "metadata": {
      "needs_background": "light"
     },
     "output_type": "display_data"
    }
   ],
   "source": [
    "plt.figure(figsize = (15, 12))\n",
    "palette=sns.diverging_palette(20, 220, n = 256)\n",
    "corr = df.corr(method = 'spearman')\n",
    "sns.heatmap(corr , annot = True , fmt='.2f', cmap = \"Greys\", square = True, linewidths = .5)\n",
    "plt.title('Correlation Matrix', size = 15, weight = 'bold');"
   ]
  },
  {
   "cell_type": "markdown",
   "metadata": {},
   "source": [
    "Terlihat dari matrix di atas, *feature* \"Year\" memiliki korelasi terkuat terhadap variabel *target* \"Price\". Selanjutnya kita akan memeriksa apakah terdapat data yang *multicollinearity* pada datasets."
   ]
  },
  {
   "cell_type": "code",
   "execution_count": 299,
   "metadata": {},
   "outputs": [],
   "source": [
    "from statsmodels.stats.outliers_influence import variance_inflation_factor\n",
    "\n",
    "def calc_vif(X):\n",
    "    vif = pd.DataFrame()\n",
    "    vif['variables'] = X.columns\n",
    "    vif['VIF'] = [variance_inflation_factor(X.values, i) for i in range(X.shape[1])]\n",
    "    return(vif)"
   ]
  },
  {
   "cell_type": "code",
   "execution_count": 300,
   "metadata": {},
   "outputs": [
    {
     "data": {
      "text/html": [
       "<div>\n",
       "<style scoped>\n",
       "    .dataframe tbody tr th:only-of-type {\n",
       "        vertical-align: middle;\n",
       "    }\n",
       "\n",
       "    .dataframe tbody tr th {\n",
       "        vertical-align: top;\n",
       "    }\n",
       "\n",
       "    .dataframe thead th {\n",
       "        text-align: right;\n",
       "    }\n",
       "</style>\n",
       "<table border=\"1\" class=\"dataframe\">\n",
       "  <thead>\n",
       "    <tr style=\"text-align: right;\">\n",
       "      <th></th>\n",
       "      <th>variables</th>\n",
       "      <th>VIF</th>\n",
       "    </tr>\n",
       "  </thead>\n",
       "  <tbody>\n",
       "    <tr>\n",
       "      <th>0</th>\n",
       "      <td>Year</td>\n",
       "      <td>7.158185</td>\n",
       "    </tr>\n",
       "    <tr>\n",
       "      <th>1</th>\n",
       "      <td>Engine_Size</td>\n",
       "      <td>6.856337</td>\n",
       "    </tr>\n",
       "    <tr>\n",
       "      <th>2</th>\n",
       "      <td>Mileage</td>\n",
       "      <td>2.764757</td>\n",
       "    </tr>\n",
       "    <tr>\n",
       "      <th>3</th>\n",
       "      <td>Price</td>\n",
       "      <td>2.917692</td>\n",
       "    </tr>\n",
       "  </tbody>\n",
       "</table>\n",
       "</div>"
      ],
      "text/plain": [
       "     variables       VIF\n",
       "0         Year  7.158185\n",
       "1  Engine_Size  6.856337\n",
       "2      Mileage  2.764757\n",
       "3        Price  2.917692"
      ]
     },
     "execution_count": 300,
     "metadata": {},
     "output_type": "execute_result"
    }
   ],
   "source": [
    "calc_vif(df[feature_outlier])"
   ]
  },
  {
   "cell_type": "markdown",
   "metadata": {},
   "source": [
    "Nilai VIF yang lebih dari 4 sudah tergolong *multicollinearity*. Pada ilmu data, kita seharusnya menghapus *feature - feature* yang nilai VIF nya lebih dari 4. Namun di datasets ini, kita tidak boleh menghapus *feature* tersebut karena *feature* \"Year\" dan \"Engine_Size\" memiliki pengaruh yang besar dalam penjualan mobil bekas. "
   ]
  },
  {
   "cell_type": "markdown",
   "metadata": {},
   "source": [
    "#### 3.6 *Clean Dataset*"
   ]
  },
  {
   "cell_type": "code",
   "execution_count": 301,
   "metadata": {},
   "outputs": [
    {
     "data": {
      "text/html": [
       "<div>\n",
       "<style scoped>\n",
       "    .dataframe tbody tr th:only-of-type {\n",
       "        vertical-align: middle;\n",
       "    }\n",
       "\n",
       "    .dataframe tbody tr th {\n",
       "        vertical-align: top;\n",
       "    }\n",
       "\n",
       "    .dataframe thead th {\n",
       "        text-align: right;\n",
       "    }\n",
       "</style>\n",
       "<table border=\"1\" class=\"dataframe\">\n",
       "  <thead>\n",
       "    <tr style=\"text-align: right;\">\n",
       "      <th></th>\n",
       "      <th>Type</th>\n",
       "      <th>Region</th>\n",
       "      <th>Make</th>\n",
       "      <th>Gear_Type</th>\n",
       "      <th>Options</th>\n",
       "      <th>Year</th>\n",
       "      <th>Engine_Size</th>\n",
       "      <th>Mileage</th>\n",
       "      <th>Price</th>\n",
       "    </tr>\n",
       "  </thead>\n",
       "  <tbody>\n",
       "    <tr>\n",
       "      <th>0</th>\n",
       "      <td>Yukon</td>\n",
       "      <td>Riyadh</td>\n",
       "      <td>GMC</td>\n",
       "      <td>Automatic</td>\n",
       "      <td>Full</td>\n",
       "      <td>2014</td>\n",
       "      <td>8.0</td>\n",
       "      <td>80000</td>\n",
       "      <td>120000</td>\n",
       "    </tr>\n",
       "    <tr>\n",
       "      <th>1</th>\n",
       "      <td>Range Rover</td>\n",
       "      <td>Riyadh</td>\n",
       "      <td>Land Rover</td>\n",
       "      <td>Automatic</td>\n",
       "      <td>Full</td>\n",
       "      <td>2015</td>\n",
       "      <td>5.0</td>\n",
       "      <td>140000</td>\n",
       "      <td>260000</td>\n",
       "    </tr>\n",
       "    <tr>\n",
       "      <th>2</th>\n",
       "      <td>Optima</td>\n",
       "      <td>Hafar Al-Batin</td>\n",
       "      <td>Kia</td>\n",
       "      <td>Automatic</td>\n",
       "      <td>Semi Full</td>\n",
       "      <td>2015</td>\n",
       "      <td>2.4</td>\n",
       "      <td>220000</td>\n",
       "      <td>42000</td>\n",
       "    </tr>\n",
       "    <tr>\n",
       "      <th>3</th>\n",
       "      <td>CX3</td>\n",
       "      <td>Abha</td>\n",
       "      <td>Mazda</td>\n",
       "      <td>Automatic</td>\n",
       "      <td>Semi Full</td>\n",
       "      <td>2019</td>\n",
       "      <td>2.0</td>\n",
       "      <td>25000</td>\n",
       "      <td>58000</td>\n",
       "    </tr>\n",
       "    <tr>\n",
       "      <th>4</th>\n",
       "      <td>Cayenne S</td>\n",
       "      <td>Riyadh</td>\n",
       "      <td>Porsche</td>\n",
       "      <td>Automatic</td>\n",
       "      <td>Full</td>\n",
       "      <td>2012</td>\n",
       "      <td>4.8</td>\n",
       "      <td>189000</td>\n",
       "      <td>85000</td>\n",
       "    </tr>\n",
       "    <tr>\n",
       "      <th>...</th>\n",
       "      <td>...</td>\n",
       "      <td>...</td>\n",
       "      <td>...</td>\n",
       "      <td>...</td>\n",
       "      <td>...</td>\n",
       "      <td>...</td>\n",
       "      <td>...</td>\n",
       "      <td>...</td>\n",
       "      <td>...</td>\n",
       "    </tr>\n",
       "    <tr>\n",
       "      <th>3737</th>\n",
       "      <td>CX9</td>\n",
       "      <td>Qassim</td>\n",
       "      <td>Mazda</td>\n",
       "      <td>Automatic</td>\n",
       "      <td>Full</td>\n",
       "      <td>2020</td>\n",
       "      <td>2.0</td>\n",
       "      <td>9500</td>\n",
       "      <td>132000</td>\n",
       "    </tr>\n",
       "    <tr>\n",
       "      <th>3738</th>\n",
       "      <td>Suburban</td>\n",
       "      <td>Riyadh</td>\n",
       "      <td>GMC</td>\n",
       "      <td>Automatic</td>\n",
       "      <td>Full</td>\n",
       "      <td>2006</td>\n",
       "      <td>5.3</td>\n",
       "      <td>86000</td>\n",
       "      <td>50000</td>\n",
       "    </tr>\n",
       "    <tr>\n",
       "      <th>3739</th>\n",
       "      <td>X-Trail</td>\n",
       "      <td>Jeddah</td>\n",
       "      <td>Nissan</td>\n",
       "      <td>Automatic</td>\n",
       "      <td>Standard</td>\n",
       "      <td>2018</td>\n",
       "      <td>2.5</td>\n",
       "      <td>78794</td>\n",
       "      <td>68000</td>\n",
       "    </tr>\n",
       "    <tr>\n",
       "      <th>3740</th>\n",
       "      <td>Yukon</td>\n",
       "      <td>Dammam</td>\n",
       "      <td>GMC</td>\n",
       "      <td>Automatic</td>\n",
       "      <td>Full</td>\n",
       "      <td>2016</td>\n",
       "      <td>5.3</td>\n",
       "      <td>48000</td>\n",
       "      <td>145000</td>\n",
       "    </tr>\n",
       "    <tr>\n",
       "      <th>3741</th>\n",
       "      <td>RX</td>\n",
       "      <td>Dammam</td>\n",
       "      <td>Lexus</td>\n",
       "      <td>Automatic</td>\n",
       "      <td>Full</td>\n",
       "      <td>2016</td>\n",
       "      <td>2.5</td>\n",
       "      <td>81000</td>\n",
       "      <td>154000</td>\n",
       "    </tr>\n",
       "  </tbody>\n",
       "</table>\n",
       "<p>3742 rows × 9 columns</p>\n",
       "</div>"
      ],
      "text/plain": [
       "             Type          Region        Make  Gear_Type    Options  Year  \\\n",
       "0           Yukon          Riyadh         GMC  Automatic       Full  2014   \n",
       "1     Range Rover          Riyadh  Land Rover  Automatic       Full  2015   \n",
       "2          Optima  Hafar Al-Batin         Kia  Automatic  Semi Full  2015   \n",
       "3             CX3            Abha       Mazda  Automatic  Semi Full  2019   \n",
       "4       Cayenne S          Riyadh     Porsche  Automatic       Full  2012   \n",
       "...           ...             ...         ...        ...        ...   ...   \n",
       "3737          CX9          Qassim       Mazda  Automatic       Full  2020   \n",
       "3738     Suburban          Riyadh         GMC  Automatic       Full  2006   \n",
       "3739      X-Trail          Jeddah      Nissan  Automatic   Standard  2018   \n",
       "3740        Yukon          Dammam         GMC  Automatic       Full  2016   \n",
       "3741           RX          Dammam       Lexus  Automatic       Full  2016   \n",
       "\n",
       "      Engine_Size  Mileage   Price  \n",
       "0             8.0    80000  120000  \n",
       "1             5.0   140000  260000  \n",
       "2             2.4   220000   42000  \n",
       "3             2.0    25000   58000  \n",
       "4             4.8   189000   85000  \n",
       "...           ...      ...     ...  \n",
       "3737          2.0     9500  132000  \n",
       "3738          5.3    86000   50000  \n",
       "3739          2.5    78794   68000  \n",
       "3740          5.3    48000  145000  \n",
       "3741          2.5    81000  154000  \n",
       "\n",
       "[3742 rows x 9 columns]"
      ]
     },
     "execution_count": 301,
     "metadata": {},
     "output_type": "execute_result"
    }
   ],
   "source": [
    "df.reset_index(drop = True, inplace = True)\n",
    "df"
   ]
  },
  {
   "cell_type": "markdown",
   "metadata": {},
   "source": [
    "Hasil data setelah cleaning menjadi 3742 index dan 9 kolom."
   ]
  },
  {
   "cell_type": "markdown",
   "metadata": {},
   "source": [
    "### 4. Modeling"
   ]
  },
  {
   "cell_type": "code",
   "execution_count": 302,
   "metadata": {},
   "outputs": [],
   "source": [
    "# Import library untuk modeling\n",
    "\n",
    "from sklearn.model_selection import train_test_split, cross_val_score, GridSearchCV, KFold\n",
    "\n",
    "from category_encoders import BinaryEncoder\n",
    "\n",
    "from sklearn.preprocessing import OneHotEncoder\n",
    "from sklearn.compose import ColumnTransformer, TransformedTargetRegressor\n",
    "from sklearn.pipeline import Pipeline\n",
    "\n",
    "from sklearn.linear_model import LinearRegression\n",
    "from sklearn.neighbors import KNeighborsRegressor\n",
    "from sklearn.tree import DecisionTreeRegressor\n",
    "from sklearn.ensemble import RandomForestRegressor, GradientBoostingRegressor\n",
    "from xgboost.sklearn import XGBRegressor\n",
    "\n",
    "from sklearn.metrics import r2_score, mean_absolute_error, mean_absolute_percentage_error, get_scorer_names, mean_squared_log_error"
   ]
  },
  {
   "cell_type": "code",
   "execution_count": 303,
   "metadata": {},
   "outputs": [],
   "source": [
    "# get_scorer_names()"
   ]
  },
  {
   "cell_type": "markdown",
   "metadata": {},
   "source": [
    "Dalam melakukan *modeling* kita akan menggunakan total 6 jenis model yaitu 3 base model dan 3 ensemble model yang pada akhirnya akan dipilih. Model-model yang akan digunakan adalah sebagai berikut :\n",
    "\n",
    "Base Model:\n",
    "\n",
    "1. Linear Regression\n",
    "2. KNN Regression\n",
    "3. Decision Tree Regression\n",
    "\n",
    "Ensemble Model:\n",
    "\n",
    "1. Random Forest Regression\n",
    "2. Gradient Boosting Regression\n",
    "3. Xtreme Gradient Boosting Regessor"
   ]
  },
  {
   "cell_type": "markdown",
   "metadata": {},
   "source": [
    "#### 4.1 *Encoding*"
   ]
  },
  {
   "cell_type": "markdown",
   "metadata": {},
   "source": [
    "Sebelum melakukan *modeling*, terlebih dahulu akan dilakukan *encoding* ke *feature* yang berjenis kategori. Disini kita akan menggunakan Binary Encoder dan One Hot Encoder. Binary Encoder digunakan ketika kategori memiliki jumlah *unique* yang banyak sedangkan One Hot Encoder digunakan untuk kategori yang jumlah *unique*-nya masih bisa dihitung jari.\n",
    "<br>\n",
    "<br>\n",
    "Sekarang kita akan lihat jumlah *unique* dari tiap *feature* yang jenisnya kategori."
   ]
  },
  {
   "cell_type": "code",
   "execution_count": 304,
   "metadata": {},
   "outputs": [
    {
     "data": {
      "text/html": [
       "<div>\n",
       "<style scoped>\n",
       "    .dataframe tbody tr th:only-of-type {\n",
       "        vertical-align: middle;\n",
       "    }\n",
       "\n",
       "    .dataframe tbody tr th {\n",
       "        vertical-align: top;\n",
       "    }\n",
       "\n",
       "    .dataframe thead th {\n",
       "        text-align: right;\n",
       "    }\n",
       "</style>\n",
       "<table border=\"1\" class=\"dataframe\">\n",
       "  <thead>\n",
       "    <tr style=\"text-align: right;\">\n",
       "      <th></th>\n",
       "      <th>Data Features</th>\n",
       "      <th>Data Types</th>\n",
       "      <th>Unique</th>\n",
       "      <th>Unique Sample</th>\n",
       "    </tr>\n",
       "  </thead>\n",
       "  <tbody>\n",
       "    <tr>\n",
       "      <th>0</th>\n",
       "      <td>Type</td>\n",
       "      <td>object</td>\n",
       "      <td>316</td>\n",
       "      <td>[Fusion]</td>\n",
       "    </tr>\n",
       "    <tr>\n",
       "      <th>1</th>\n",
       "      <td>Region</td>\n",
       "      <td>object</td>\n",
       "      <td>27</td>\n",
       "      <td>[Al-Ahsa]</td>\n",
       "    </tr>\n",
       "    <tr>\n",
       "      <th>2</th>\n",
       "      <td>Make</td>\n",
       "      <td>object</td>\n",
       "      <td>56</td>\n",
       "      <td>[Foton]</td>\n",
       "    </tr>\n",
       "    <tr>\n",
       "      <th>3</th>\n",
       "      <td>Gear_Type</td>\n",
       "      <td>object</td>\n",
       "      <td>2</td>\n",
       "      <td>[Automatic]</td>\n",
       "    </tr>\n",
       "    <tr>\n",
       "      <th>4</th>\n",
       "      <td>Options</td>\n",
       "      <td>object</td>\n",
       "      <td>3</td>\n",
       "      <td>[Full]</td>\n",
       "    </tr>\n",
       "  </tbody>\n",
       "</table>\n",
       "</div>"
      ],
      "text/plain": [
       "  Data Features Data Types  Unique Unique Sample\n",
       "0          Type     object     316      [Fusion]\n",
       "1        Region     object      27     [Al-Ahsa]\n",
       "2          Make     object      56       [Foton]\n",
       "3     Gear_Type     object       2   [Automatic]\n",
       "4       Options     object       3        [Full]"
      ]
     },
     "execution_count": 304,
     "metadata": {},
     "output_type": "execute_result"
    }
   ],
   "source": [
    "listdesc = []\n",
    "for col in df.select_dtypes('object').columns:\n",
    "    listdesc.append([col,\n",
    "                     df[col].dtypes,\n",
    "                     df[col].nunique(),\n",
    "                     df[col].drop_duplicates().sample(1).values])\n",
    "\n",
    "pd.DataFrame(listdesc, columns=['Data Features',\n",
    "                               'Data Types',\n",
    "                               'Unique',\n",
    "                               'Unique Sample'])"
   ]
  },
  {
   "cell_type": "markdown",
   "metadata": {},
   "source": [
    "Dari data di atas kita melihat bahwa *feature* \"Type\", \"Region\", dan \"Make\" akan menggunakan Binary Encoder dan sisanya menggunakan One Hot Encoder."
   ]
  },
  {
   "cell_type": "code",
   "execution_count": 305,
   "metadata": {},
   "outputs": [],
   "source": [
    "ct = ColumnTransformer([\n",
    "    ('One Hot Encoder', OneHotEncoder(drop='first'), ['Gear_Type', 'Options']),\n",
    "    ('Binary Encoder', BinaryEncoder(), ['Type', 'Region', 'Make'])\n",
    "], remainder='passthrough')"
   ]
  },
  {
   "cell_type": "markdown",
   "metadata": {},
   "source": [
    "#### 4.2 *Splitting the Data*"
   ]
  },
  {
   "cell_type": "code",
   "execution_count": 306,
   "metadata": {},
   "outputs": [],
   "source": [
    "X = df.drop(['Price'], axis=1)\n",
    "y = df['Price']\n",
    "\n",
    "X_train, X_test, y_train, y_test= train_test_split(X, y, test_size = 0.3, random_state = 100)"
   ]
  },
  {
   "cell_type": "markdown",
   "metadata": {},
   "source": [
    "### 4.3 *Benchmark the Models*"
   ]
  },
  {
   "cell_type": "markdown",
   "metadata": {},
   "source": [
    "Selanjutnya kita akan mencari model untuk datasets. Pencarian model dibagi menjadi 3 tahap. Yang pertama mencari model dasar yang akan dibandingkan nilai *train* dan *test*-nya berdasarkan *metric evaluation*. Setelah didapatkan model dasar, yang kedua akan dilanjutkan *hyperparameter tuning* untuk mendapatkan parameter apa saja yang dianggap paling baik berdasarkan *metric evaluation*. Setelah mendapatkan base model dengan *benchmark* terbaik, tahap terakhir adalah dengan mencoba model tersebut ke data test dengan melihat hasil *metric evaluation*. Diharapkan tahap terakhir ini dapat meningkatkan performa berdasarkan hasil *metric evaluation*."
   ]
  },
  {
   "cell_type": "markdown",
   "metadata": {},
   "source": [
    "##### 4.3.1 *Choose Base Model*"
   ]
  },
  {
   "cell_type": "markdown",
   "metadata": {},
   "source": [
    "Tahap 1.\n",
    "<br>\n",
    "<br>\n",
    "Di sini kita akan mencari model dasar dengan menggunakan model-model yang disebutkan pada bagian \"Modeling\". Setiap model akan dicoba ke data *train* dari datasaets dan melihat bagaimana nilai dari masing-masing *metric evaluation*nya. Terdapat satu fungsi tambahan yaitu TransformedTargetRegressor. Fungsi ini membuat skala variabel *Target* menjadi lebih kecil yang membuat data lebih berdistribusi normal. Setelah *Target* diproses, fungsi ini akan mengembalikan nilai awal *Target* menjadi semula sehingga hasil yang didapat akan lebih maksimal."
   ]
  },
  {
   "cell_type": "markdown",
   "metadata": {},
   "source": [
    "Data *Train*"
   ]
  },
  {
   "cell_type": "code",
   "execution_count": 307,
   "metadata": {},
   "outputs": [],
   "source": [
    "lr = LinearRegression()\n",
    "knn = KNeighborsRegressor()\n",
    "dt = DecisionTreeRegressor(random_state = 100)\n",
    "rf = RandomForestRegressor(random_state = 100)\n",
    "gdt = GradientBoostingRegressor(random_state = 100)\n",
    "xgb = XGBRegressor(random_state = 100)\n",
    "\n",
    "ttr_lr = TransformedTargetRegressor(lr, func = np.log, inverse_func = np.exp)\n",
    "ttr_knn = TransformedTargetRegressor(knn, func = np.log, inverse_func = np.exp)\n",
    "ttr_dt = TransformedTargetRegressor(dt, func = np.log, inverse_func = np.exp)\n",
    "ttr_rf = TransformedTargetRegressor(rf, func = np.log, inverse_func = np.exp)\n",
    "ttr_gdt = TransformedTargetRegressor(gdt, func = np.log, inverse_func = np.exp)\n",
    "ttr_xgb = TransformedTargetRegressor(xgb, func = np.log, inverse_func = np.exp)\n",
    "\n",
    "models = [ttr_lr, ttr_knn, ttr_dt, ttr_rf, ttr_gdt, ttr_xgb]\n",
    "\n",
    "score_mae = []\n",
    "score_mape = []\n",
    "score_rmsle = []\n",
    "score_r2 = []\n",
    "\n",
    "for model in models:\n",
    "    \n",
    "    cross_val = KFold(n_splits = 5, shuffle = True, random_state = 100)\n",
    "    estimator = Pipeline([\n",
    "        ('preprocessing', ct),\n",
    "        ('model', model)\n",
    "    ])\n",
    "\n",
    "    # MAE\n",
    "    model_cv_mae = cross_val_score(\n",
    "        estimator, \n",
    "        X_train, \n",
    "        y_train, \n",
    "        cv = cross_val, \n",
    "        scoring = 'neg_mean_absolute_error', \n",
    "        error_score = 'raise'\n",
    "        )\n",
    "\n",
    "    score_mae.append(model_cv_mae.mean())\n",
    "\n",
    "    # MAPE\n",
    "    model_cv_mape = cross_val_score(\n",
    "        estimator, \n",
    "        X_train, \n",
    "        y_train, \n",
    "        cv = cross_val, \n",
    "        scoring = 'neg_mean_absolute_percentage_error', \n",
    "        error_score = 'raise'\n",
    "        )\n",
    "\n",
    "    score_mape.append(model_cv_mape.mean())\n",
    "    \n",
    "       # RMSLE\n",
    "    model_cv_rmsle = cross_val_score(\n",
    "        estimator, \n",
    "        X_train, \n",
    "        y_train, \n",
    "        cv = cross_val, \n",
    "        scoring = 'neg_mean_squared_log_error', \n",
    "        error_score = 'raise'\n",
    "        )\n",
    "\n",
    "    score_rmsle.append(model_cv_rmsle.mean())\n",
    "\n",
    "       # R2\n",
    "    model_cv_r2  =  cross_val_score(\n",
    "        estimator, \n",
    "        X_train, \n",
    "        y_train, \n",
    "        cv = cross_val, \n",
    "        scoring = 'r2', \n",
    "        error_score = 'raise'\n",
    "        )\n",
    "\n",
    "    score_r2.append(model_cv_r2.mean())\n",
    "\n",
    "score_rmsle = np.sqrt(abs(np.array(score_rmsle)))"
   ]
  },
  {
   "cell_type": "markdown",
   "metadata": {},
   "source": [
    "Hasil *metric evaluation* tiap model"
   ]
  },
  {
   "cell_type": "code",
   "execution_count": 308,
   "metadata": {},
   "outputs": [
    {
     "data": {
      "text/html": [
       "<div>\n",
       "<style scoped>\n",
       "    .dataframe tbody tr th:only-of-type {\n",
       "        vertical-align: middle;\n",
       "    }\n",
       "\n",
       "    .dataframe tbody tr th {\n",
       "        vertical-align: top;\n",
       "    }\n",
       "\n",
       "    .dataframe thead th {\n",
       "        text-align: right;\n",
       "    }\n",
       "</style>\n",
       "<table border=\"1\" class=\"dataframe\">\n",
       "  <thead>\n",
       "    <tr style=\"text-align: right;\">\n",
       "      <th></th>\n",
       "      <th>Model</th>\n",
       "      <th>Score MAE</th>\n",
       "      <th>Score MAPE</th>\n",
       "      <th>Score RMSLE</th>\n",
       "      <th>Score R2</th>\n",
       "    </tr>\n",
       "  </thead>\n",
       "  <tbody>\n",
       "    <tr>\n",
       "      <th>0</th>\n",
       "      <td>Linear Regression</td>\n",
       "      <td>-27136.233624</td>\n",
       "      <td>-0.380233</td>\n",
       "      <td>0.477826</td>\n",
       "      <td>0.513030</td>\n",
       "    </tr>\n",
       "    <tr>\n",
       "      <th>1</th>\n",
       "      <td>KNN Regression</td>\n",
       "      <td>-41377.023852</td>\n",
       "      <td>-0.682019</td>\n",
       "      <td>0.696103</td>\n",
       "      <td>0.098630</td>\n",
       "    </tr>\n",
       "    <tr>\n",
       "      <th>2</th>\n",
       "      <td>Decision Tree Regression</td>\n",
       "      <td>-25049.526184</td>\n",
       "      <td>-0.392436</td>\n",
       "      <td>0.504277</td>\n",
       "      <td>0.547301</td>\n",
       "    </tr>\n",
       "    <tr>\n",
       "      <th>3</th>\n",
       "      <td>Random Forest Regression</td>\n",
       "      <td>-17604.891336</td>\n",
       "      <td>-0.246446</td>\n",
       "      <td>0.354368</td>\n",
       "      <td>0.748918</td>\n",
       "    </tr>\n",
       "    <tr>\n",
       "      <th>4</th>\n",
       "      <td>Gradient Boost Regression</td>\n",
       "      <td>-19560.458124</td>\n",
       "      <td>-0.259321</td>\n",
       "      <td>0.346124</td>\n",
       "      <td>0.718556</td>\n",
       "    </tr>\n",
       "    <tr>\n",
       "      <th>5</th>\n",
       "      <td>Extreme Gradient Boost</td>\n",
       "      <td>-15887.472257</td>\n",
       "      <td>-0.218698</td>\n",
       "      <td>0.314963</td>\n",
       "      <td>0.811174</td>\n",
       "    </tr>\n",
       "  </tbody>\n",
       "</table>\n",
       "</div>"
      ],
      "text/plain": [
       "                       Model     Score MAE  Score MAPE  Score RMSLE  Score R2\n",
       "0          Linear Regression -27136.233624   -0.380233     0.477826  0.513030\n",
       "1             KNN Regression -41377.023852   -0.682019     0.696103  0.098630\n",
       "2   Decision Tree Regression -25049.526184   -0.392436     0.504277  0.547301\n",
       "3   Random Forest Regression -17604.891336   -0.246446     0.354368  0.748918\n",
       "4  Gradient Boost Regression -19560.458124   -0.259321     0.346124  0.718556\n",
       "5     Extreme Gradient Boost -15887.472257   -0.218698     0.314963  0.811174"
      ]
     },
     "execution_count": 308,
     "metadata": {},
     "output_type": "execute_result"
    }
   ],
   "source": [
    "Model_name = ['Linear Regression', 'KNN Regression', 'Decision Tree Regression', 'Random Forest Regression', 'Gradient Boost Regression','Extreme Gradient Boost']\n",
    "\n",
    "train_score = pd.DataFrame({'Model': Model_name,\n",
    "                            'Score MAE': score_mae,\n",
    "                            'Score MAPE': score_mape,\n",
    "                            'Score RMSLE': score_rmsle,\n",
    "                            'Score R2': score_r2\n",
    "                            })\n",
    "\n",
    "train_score"
   ]
  },
  {
   "cell_type": "markdown",
   "metadata": {},
   "source": [
    "Dari tabel di atas, terlihat bahwa Extreme Gradient Boost menjadi model terbaik saat dicoba ke data *train*. Hasil *metric evaluation* Extreme Gradient Boost menunjukkan bahwa tiap parameter *metric* tersebut memiliki hasil yang paling kecil dibandingkan dengan model yang lain dengan nilai MAE 15887.472257, nilai MAPE 0.218698, dan nilai RMSLE 0.314963. Sedangkan untuk nila R-Square kita cari dengan nilai terbesar yang lagi-lagi model Extreme Gradient Boost memilikinya. Artinya *feature-feature* model Extreme Gradient Boost dapat merepresentasikan 81% nilainya terhadap *target*. Hasilnya *base* model yang akan digunakan adalah Extreme Gradient Boost.\n",
    "<br>\n",
    "<br>\n",
    "Selanjutnya mari kita bahas konsep tentang model Extreme Gradient Boost. Secara garis besar, model ini masuk ke dalam *ensemble methode similar type* yaitu \"boosting\". Konsep boosting di sini adalah ketika pemodelan dimasukkan ke dalam data kemudian data salah diprediksi, maka setiap data yang salah akan diberikan bobot yang berlebih sehingga data dapat diprediksi dengan benar. Kasarnya, pembobotan seperti menambah jenis data yang sama untuk setiap data yang salah diprediksi dengan nilai awal adalah 1/data. Ketika data sudah diberi bobot tambahan, maka akan dilakukan pengulangan model yang pengulangan atau iterasinya berdasarkan jumlah n_estimator. Pembobotan pada boosting ditentukan melalui nilai learning_rate.\n",
    "<br>\n",
    "<br>\n",
    "Dikarenakan model ini masuk ke *non-interpretable model*, artinya kita tidak dapat mengetahui lebih detail tentang model ini karena terlalu kompleks. Salah satu alasan mengapa masuk ke *non-interpretable model* juga karena kita tidak dapat mengetahui data mana saja yang diprediksi salah sehingga harus diberi bobot. Perbedaan dengan model penganut boosting yang lain adalah model ini dapat bekerja secara paralel sehingga cocok digunakan terhadap *big data*. Kemampuan pengerjaan paralel inilah yang membuat proses bekerja lebih cepat dengan menitikberatkan pekerjaan komputer pada processor. Kekurangan dari model ini adalah ketika kita sedang menjalankan model ini, komputer kita akan sangat berat karena titik kerja komputer dibebankan pada pemodelan ini."
   ]
  },
  {
   "cell_type": "markdown",
   "metadata": {},
   "source": [
    "Konsep Pembobotan : <br><br>\n",
    "![gambar bobot](https://media.geeksforgeeks.org/wp-content/uploads/20210707140911/Boosting.png)"
   ]
  },
  {
   "cell_type": "markdown",
   "metadata": {},
   "source": [
    "Selanjutnya akan dilakukan pengujian model ke data test dari datasets menggunakan *base* model yang terpilih (Extreme Gradient Boost)."
   ]
  },
  {
   "cell_type": "code",
   "execution_count": 309,
   "metadata": {},
   "outputs": [
    {
     "data": {
      "text/html": [
       "<div>\n",
       "<style scoped>\n",
       "    .dataframe tbody tr th:only-of-type {\n",
       "        vertical-align: middle;\n",
       "    }\n",
       "\n",
       "    .dataframe tbody tr th {\n",
       "        vertical-align: top;\n",
       "    }\n",
       "\n",
       "    .dataframe thead th {\n",
       "        text-align: right;\n",
       "    }\n",
       "</style>\n",
       "<table border=\"1\" class=\"dataframe\">\n",
       "  <thead>\n",
       "    <tr style=\"text-align: right;\">\n",
       "      <th></th>\n",
       "      <th>Score MAE</th>\n",
       "      <th>Score MAPE</th>\n",
       "      <th>Score RMSLE</th>\n",
       "      <th>Score R2</th>\n",
       "    </tr>\n",
       "  </thead>\n",
       "  <tbody>\n",
       "    <tr>\n",
       "      <th>Extreme Gradient Boost Test</th>\n",
       "      <td>14816.721184</td>\n",
       "      <td>0.249703</td>\n",
       "      <td>0.318825</td>\n",
       "      <td>0.80262</td>\n",
       "    </tr>\n",
       "  </tbody>\n",
       "</table>\n",
       "</div>"
      ],
      "text/plain": [
       "                                Score MAE  Score MAPE  Score RMSLE  Score R2\n",
       "Extreme Gradient Boost Test  14816.721184    0.249703     0.318825   0.80262"
      ]
     },
     "execution_count": 309,
     "metadata": {},
     "output_type": "execute_result"
    }
   ],
   "source": [
    "ttr_xgb = TransformedTargetRegressor(xgb, func=np.log, inverse_func=np.exp)\n",
    "\n",
    "models = {\n",
    "    'Extreme Gradient Boost Test': ttr_xgb,\n",
    "}\n",
    "\n",
    "score_mae_test = []\n",
    "score_mape_test = []\n",
    "score_rmsle_test = []\n",
    "score_r2_test = []\n",
    "\n",
    "for i in models:\n",
    "\n",
    "    model = Pipeline([\n",
    "        ('preprocessing', ct),\n",
    "        ('model', models[i])\n",
    "        ])\n",
    "\n",
    "    model.fit(X_train, y_train)\n",
    "    y_pred = model.predict(X_test)\n",
    "    score_mae_test.append(mean_absolute_error(y_test, y_pred))\n",
    "    score_mape_test.append(mean_absolute_percentage_error(y_test, y_pred))\n",
    "    score_rmsle_test.append(mean_squared_log_error(y_test, y_pred, squared = False))\n",
    "    score_r2_test.append(r2_score(y_test, y_pred))\n",
    "\n",
    "score_before_tuning = pd.DataFrame({'Score MAE': score_mae_test, \n",
    "                                    'Score MAPE': score_mape_test, \n",
    "                                    'Score RMSLE': score_rmsle_test,  \n",
    "                                    'Score R2': score_r2_test}, \n",
    "                                    index=models.keys())\n",
    "score_before_tuning"
   ]
  },
  {
   "cell_type": "markdown",
   "metadata": {},
   "source": [
    "Perbandingan Nilai *Train* dan *Test*"
   ]
  },
  {
   "cell_type": "code",
   "execution_count": 310,
   "metadata": {},
   "outputs": [
    {
     "data": {
      "text/html": [
       "<div>\n",
       "<style scoped>\n",
       "    .dataframe tbody tr th:only-of-type {\n",
       "        vertical-align: middle;\n",
       "    }\n",
       "\n",
       "    .dataframe tbody tr th {\n",
       "        vertical-align: top;\n",
       "    }\n",
       "\n",
       "    .dataframe thead th {\n",
       "        text-align: right;\n",
       "    }\n",
       "</style>\n",
       "<table border=\"1\" class=\"dataframe\">\n",
       "  <thead>\n",
       "    <tr style=\"text-align: right;\">\n",
       "      <th></th>\n",
       "      <th>Score MAE</th>\n",
       "      <th>Score MAPE</th>\n",
       "      <th>Score RMSLE</th>\n",
       "      <th>Score R2</th>\n",
       "    </tr>\n",
       "    <tr>\n",
       "      <th>Model</th>\n",
       "      <th></th>\n",
       "      <th></th>\n",
       "      <th></th>\n",
       "      <th></th>\n",
       "    </tr>\n",
       "  </thead>\n",
       "  <tbody>\n",
       "    <tr>\n",
       "      <th>Extreme Gradient Boost Train</th>\n",
       "      <td>-15887.472257</td>\n",
       "      <td>-0.218698</td>\n",
       "      <td>0.314963</td>\n",
       "      <td>0.811174</td>\n",
       "    </tr>\n",
       "    <tr>\n",
       "      <th>Extreme Gradient Boost Test</th>\n",
       "      <td>14816.721184</td>\n",
       "      <td>0.249703</td>\n",
       "      <td>0.318825</td>\n",
       "      <td>0.802620</td>\n",
       "    </tr>\n",
       "  </tbody>\n",
       "</table>\n",
       "</div>"
      ],
      "text/plain": [
       "                                 Score MAE  Score MAPE  Score RMSLE  Score R2\n",
       "Model                                                                        \n",
       "Extreme Gradient Boost Train -15887.472257   -0.218698     0.314963  0.811174\n",
       "Extreme Gradient Boost Test   14816.721184    0.249703     0.318825  0.802620"
      ]
     },
     "execution_count": 310,
     "metadata": {},
     "output_type": "execute_result"
    }
   ],
   "source": [
    "hasil_train = train_score[5:6].set_index('Model', drop = True)\n",
    "merged = pd.concat([hasil_train, score_before_tuning])\n",
    "merged.reset_index(inplace=True)\n",
    "merged.drop(columns = 'index', inplace = True)\n",
    "merged[\"Model\"] = ['Extreme Gradient Boost Train', 'Extreme Gradient Boost Test']\n",
    "merged.set_index('Model', drop = True)"
   ]
  },
  {
   "cell_type": "markdown",
   "metadata": {},
   "source": [
    "Dari hasil yang didapat, *metric evaluation* dari kedua hasil *train* dan *test* memiliki selisih sangat kecil yang artinya hampir tidak ada perbedaan antara data *train* dan data *test* atau disebut tidak *overfitting*. Selanjutnya akan dilakukan *hyperparamater tuning* dengan tujuan mendapatkan nilai *metric evaluation* yang lebih kecil dari nilai *metric evaluation* data test."
   ]
  },
  {
   "cell_type": "markdown",
   "metadata": {},
   "source": [
    "##### 4.3.2 *Hyperparameter Tuning*\n",
    "\n",
    "Tahap 2\n",
    "\n",
    "Pada tahap ini kita akan melakukan *hyperparameter tuning* untuk mendapatkan parameter apa saja yang terbaik pada model terpilih (Extreme Gradient Boost). Parameter yang dimiliki Extreme Gradient Boost sangat banyak. Jika kita merubah seluruh bawaan parameter dari model, akan dikhawatirkan model menjadi *overfitting*. Sehingga parameter bawaan yang diubah dari model hanya 3 saja yaitu \"max_depth\" sebagai kedalaman pohon, \"learning_rate\" sebagai pengubah nilai bobot, dan \"n_estimators\" sebagai jumlah iterasi yang diinginkan."
   ]
  },
  {
   "cell_type": "code",
   "execution_count": 311,
   "metadata": {},
   "outputs": [],
   "source": [
    "max_depth = list(np.arange(7, 11, 1))\n",
    "learning_rate = [0.01, 0.05, 0.1, 0.5, 0.9]\n",
    "n_estimators = list(np.arange(75, 301, 25))\n",
    "\n",
    "hyperparam_space_xgb = {\n",
    "    'model__max_depth': max_depth, \n",
    "    'model__learning_rate': learning_rate,\n",
    "    'model__n_estimators': n_estimators,\n",
    "}"
   ]
  },
  {
   "cell_type": "code",
   "execution_count": 312,
   "metadata": {},
   "outputs": [],
   "source": [
    "xgb = XGBRegressor(random_state = 100, verbosity = 0)\n",
    "\n",
    "estimator_xgb = Pipeline([\n",
    "        ('preprocessing', ct),\n",
    "        ('model', xgb)\n",
    "        ])\n",
    "\n",
    "crossval = KFold(n_splits=5, shuffle=True, random_state=1)\n",
    "\n",
    "gs = GridSearchCV(\n",
    "    estimator_xgb, \n",
    "    param_grid = hyperparam_space_xgb,\n",
    "    cv = crossval, \n",
    "    scoring = ['neg_mean_absolute_error', 'neg_mean_absolute_percentage_error'], \n",
    "    n_jobs = -1,\n",
    "    refit = 'neg_mean_absolute_error'\n",
    ")"
   ]
  },
  {
   "cell_type": "code",
   "execution_count": 313,
   "metadata": {},
   "outputs": [
    {
     "data": {
      "text/html": [
       "<style>#sk-container-id-3 {color: black;background-color: white;}#sk-container-id-3 pre{padding: 0;}#sk-container-id-3 div.sk-toggleable {background-color: white;}#sk-container-id-3 label.sk-toggleable__label {cursor: pointer;display: block;width: 100%;margin-bottom: 0;padding: 0.3em;box-sizing: border-box;text-align: center;}#sk-container-id-3 label.sk-toggleable__label-arrow:before {content: \"▸\";float: left;margin-right: 0.25em;color: #696969;}#sk-container-id-3 label.sk-toggleable__label-arrow:hover:before {color: black;}#sk-container-id-3 div.sk-estimator:hover label.sk-toggleable__label-arrow:before {color: black;}#sk-container-id-3 div.sk-toggleable__content {max-height: 0;max-width: 0;overflow: hidden;text-align: left;background-color: #f0f8ff;}#sk-container-id-3 div.sk-toggleable__content pre {margin: 0.2em;color: black;border-radius: 0.25em;background-color: #f0f8ff;}#sk-container-id-3 input.sk-toggleable__control:checked~div.sk-toggleable__content {max-height: 200px;max-width: 100%;overflow: auto;}#sk-container-id-3 input.sk-toggleable__control:checked~label.sk-toggleable__label-arrow:before {content: \"▾\";}#sk-container-id-3 div.sk-estimator input.sk-toggleable__control:checked~label.sk-toggleable__label {background-color: #d4ebff;}#sk-container-id-3 div.sk-label input.sk-toggleable__control:checked~label.sk-toggleable__label {background-color: #d4ebff;}#sk-container-id-3 input.sk-hidden--visually {border: 0;clip: rect(1px 1px 1px 1px);clip: rect(1px, 1px, 1px, 1px);height: 1px;margin: -1px;overflow: hidden;padding: 0;position: absolute;width: 1px;}#sk-container-id-3 div.sk-estimator {font-family: monospace;background-color: #f0f8ff;border: 1px dotted black;border-radius: 0.25em;box-sizing: border-box;margin-bottom: 0.5em;}#sk-container-id-3 div.sk-estimator:hover {background-color: #d4ebff;}#sk-container-id-3 div.sk-parallel-item::after {content: \"\";width: 100%;border-bottom: 1px solid gray;flex-grow: 1;}#sk-container-id-3 div.sk-label:hover label.sk-toggleable__label {background-color: #d4ebff;}#sk-container-id-3 div.sk-serial::before {content: \"\";position: absolute;border-left: 1px solid gray;box-sizing: border-box;top: 0;bottom: 0;left: 50%;z-index: 0;}#sk-container-id-3 div.sk-serial {display: flex;flex-direction: column;align-items: center;background-color: white;padding-right: 0.2em;padding-left: 0.2em;position: relative;}#sk-container-id-3 div.sk-item {position: relative;z-index: 1;}#sk-container-id-3 div.sk-parallel {display: flex;align-items: stretch;justify-content: center;background-color: white;position: relative;}#sk-container-id-3 div.sk-item::before, #sk-container-id-3 div.sk-parallel-item::before {content: \"\";position: absolute;border-left: 1px solid gray;box-sizing: border-box;top: 0;bottom: 0;left: 50%;z-index: -1;}#sk-container-id-3 div.sk-parallel-item {display: flex;flex-direction: column;z-index: 1;position: relative;background-color: white;}#sk-container-id-3 div.sk-parallel-item:first-child::after {align-self: flex-end;width: 50%;}#sk-container-id-3 div.sk-parallel-item:last-child::after {align-self: flex-start;width: 50%;}#sk-container-id-3 div.sk-parallel-item:only-child::after {width: 0;}#sk-container-id-3 div.sk-dashed-wrapped {border: 1px dashed gray;margin: 0 0.4em 0.5em 0.4em;box-sizing: border-box;padding-bottom: 0.4em;background-color: white;}#sk-container-id-3 div.sk-label label {font-family: monospace;font-weight: bold;display: inline-block;line-height: 1.2em;}#sk-container-id-3 div.sk-label-container {text-align: center;}#sk-container-id-3 div.sk-container {/* jupyter's `normalize.less` sets `[hidden] { display: none; }` but bootstrap.min.css set `[hidden] { display: none !important; }` so we also need the `!important` here to be able to override the default hidden behavior on the sphinx rendered scikit-learn.org. See: https://github.com/scikit-learn/scikit-learn/issues/21755 */display: inline-block !important;position: relative;}#sk-container-id-3 div.sk-text-repr-fallback {display: none;}</style><div id=\"sk-container-id-3\" class=\"sk-top-container\"><div class=\"sk-text-repr-fallback\"><pre>GridSearchCV(cv=KFold(n_splits=5, random_state=1, shuffle=True),\n",
       "             estimator=Pipeline(steps=[(&#x27;preprocessing&#x27;,\n",
       "                                        ColumnTransformer(remainder=&#x27;passthrough&#x27;,\n",
       "                                                          transformers=[(&#x27;One &#x27;\n",
       "                                                                         &#x27;Hot &#x27;\n",
       "                                                                         &#x27;Encoder&#x27;,\n",
       "                                                                         OneHotEncoder(drop=&#x27;first&#x27;),\n",
       "                                                                         [&#x27;Gear_Type&#x27;,\n",
       "                                                                          &#x27;Options&#x27;]),\n",
       "                                                                        (&#x27;Binary &#x27;\n",
       "                                                                         &#x27;Encoder&#x27;,\n",
       "                                                                         BinaryEncoder(),\n",
       "                                                                         [&#x27;Type&#x27;,\n",
       "                                                                          &#x27;Region&#x27;,\n",
       "                                                                          &#x27;Make&#x27;])])),\n",
       "                                       (&#x27;model&#x27;,\n",
       "                                        XGBRegressor(base_score=None,\n",
       "                                                     booster=None,...\n",
       "                                                     num_parallel_tree=None,\n",
       "                                                     predictor=None,\n",
       "                                                     random_state=100,\n",
       "                                                     reg_alpha=None,\n",
       "                                                     reg_lambda=None, ...))]),\n",
       "             n_jobs=-1,\n",
       "             param_grid={&#x27;model__learning_rate&#x27;: [0.01, 0.05, 0.1, 0.5, 0.9],\n",
       "                         &#x27;model__max_depth&#x27;: [7, 8, 9, 10],\n",
       "                         &#x27;model__n_estimators&#x27;: [75, 100, 125, 150, 175, 200,\n",
       "                                                 225, 250, 275, 300]},\n",
       "             refit=&#x27;neg_mean_absolute_error&#x27;,\n",
       "             scoring=[&#x27;neg_mean_absolute_error&#x27;,\n",
       "                      &#x27;neg_mean_absolute_percentage_error&#x27;])</pre><b>In a Jupyter environment, please rerun this cell to show the HTML representation or trust the notebook. <br />On GitHub, the HTML representation is unable to render, please try loading this page with nbviewer.org.</b></div><div class=\"sk-container\" hidden><div class=\"sk-item sk-dashed-wrapped\"><div class=\"sk-label-container\"><div class=\"sk-label sk-toggleable\"><input class=\"sk-toggleable__control sk-hidden--visually\" id=\"sk-estimator-id-21\" type=\"checkbox\" ><label for=\"sk-estimator-id-21\" class=\"sk-toggleable__label sk-toggleable__label-arrow\">GridSearchCV</label><div class=\"sk-toggleable__content\"><pre>GridSearchCV(cv=KFold(n_splits=5, random_state=1, shuffle=True),\n",
       "             estimator=Pipeline(steps=[(&#x27;preprocessing&#x27;,\n",
       "                                        ColumnTransformer(remainder=&#x27;passthrough&#x27;,\n",
       "                                                          transformers=[(&#x27;One &#x27;\n",
       "                                                                         &#x27;Hot &#x27;\n",
       "                                                                         &#x27;Encoder&#x27;,\n",
       "                                                                         OneHotEncoder(drop=&#x27;first&#x27;),\n",
       "                                                                         [&#x27;Gear_Type&#x27;,\n",
       "                                                                          &#x27;Options&#x27;]),\n",
       "                                                                        (&#x27;Binary &#x27;\n",
       "                                                                         &#x27;Encoder&#x27;,\n",
       "                                                                         BinaryEncoder(),\n",
       "                                                                         [&#x27;Type&#x27;,\n",
       "                                                                          &#x27;Region&#x27;,\n",
       "                                                                          &#x27;Make&#x27;])])),\n",
       "                                       (&#x27;model&#x27;,\n",
       "                                        XGBRegressor(base_score=None,\n",
       "                                                     booster=None,...\n",
       "                                                     num_parallel_tree=None,\n",
       "                                                     predictor=None,\n",
       "                                                     random_state=100,\n",
       "                                                     reg_alpha=None,\n",
       "                                                     reg_lambda=None, ...))]),\n",
       "             n_jobs=-1,\n",
       "             param_grid={&#x27;model__learning_rate&#x27;: [0.01, 0.05, 0.1, 0.5, 0.9],\n",
       "                         &#x27;model__max_depth&#x27;: [7, 8, 9, 10],\n",
       "                         &#x27;model__n_estimators&#x27;: [75, 100, 125, 150, 175, 200,\n",
       "                                                 225, 250, 275, 300]},\n",
       "             refit=&#x27;neg_mean_absolute_error&#x27;,\n",
       "             scoring=[&#x27;neg_mean_absolute_error&#x27;,\n",
       "                      &#x27;neg_mean_absolute_percentage_error&#x27;])</pre></div></div></div><div class=\"sk-parallel\"><div class=\"sk-parallel-item\"><div class=\"sk-item\"><div class=\"sk-label-container\"><div class=\"sk-label sk-toggleable\"><input class=\"sk-toggleable__control sk-hidden--visually\" id=\"sk-estimator-id-22\" type=\"checkbox\" ><label for=\"sk-estimator-id-22\" class=\"sk-toggleable__label sk-toggleable__label-arrow\">estimator: Pipeline</label><div class=\"sk-toggleable__content\"><pre>Pipeline(steps=[(&#x27;preprocessing&#x27;,\n",
       "                 ColumnTransformer(remainder=&#x27;passthrough&#x27;,\n",
       "                                   transformers=[(&#x27;One Hot Encoder&#x27;,\n",
       "                                                  OneHotEncoder(drop=&#x27;first&#x27;),\n",
       "                                                  [&#x27;Gear_Type&#x27;, &#x27;Options&#x27;]),\n",
       "                                                 (&#x27;Binary Encoder&#x27;,\n",
       "                                                  BinaryEncoder(),\n",
       "                                                  [&#x27;Type&#x27;, &#x27;Region&#x27;,\n",
       "                                                   &#x27;Make&#x27;])])),\n",
       "                (&#x27;model&#x27;,\n",
       "                 XGBRegressor(base_score=None, booster=None, callbacks=None,\n",
       "                              colsample_bylevel=None, colsample_bynode=None,\n",
       "                              colsample_bytree=N...\n",
       "                              gamma=None, gpu_id=None, grow_policy=None,\n",
       "                              importance_type=None,\n",
       "                              interaction_constraints=None, learning_rate=None,\n",
       "                              max_bin=None, max_cat_to_onehot=None,\n",
       "                              max_delta_step=None, max_depth=None,\n",
       "                              max_leaves=None, min_child_weight=None,\n",
       "                              missing=nan, monotone_constraints=None,\n",
       "                              n_estimators=100, n_jobs=None,\n",
       "                              num_parallel_tree=None, predictor=None,\n",
       "                              random_state=100, reg_alpha=None, reg_lambda=None, ...))])</pre></div></div></div><div class=\"sk-serial\"><div class=\"sk-item\"><div class=\"sk-serial\"><div class=\"sk-item sk-dashed-wrapped\"><div class=\"sk-label-container\"><div class=\"sk-label sk-toggleable\"><input class=\"sk-toggleable__control sk-hidden--visually\" id=\"sk-estimator-id-23\" type=\"checkbox\" ><label for=\"sk-estimator-id-23\" class=\"sk-toggleable__label sk-toggleable__label-arrow\">preprocessing: ColumnTransformer</label><div class=\"sk-toggleable__content\"><pre>ColumnTransformer(remainder=&#x27;passthrough&#x27;,\n",
       "                  transformers=[(&#x27;One Hot Encoder&#x27;, OneHotEncoder(drop=&#x27;first&#x27;),\n",
       "                                 [&#x27;Gear_Type&#x27;, &#x27;Options&#x27;]),\n",
       "                                (&#x27;Binary Encoder&#x27;, BinaryEncoder(),\n",
       "                                 [&#x27;Type&#x27;, &#x27;Region&#x27;, &#x27;Make&#x27;])])</pre></div></div></div><div class=\"sk-parallel\"><div class=\"sk-parallel-item\"><div class=\"sk-item\"><div class=\"sk-label-container\"><div class=\"sk-label sk-toggleable\"><input class=\"sk-toggleable__control sk-hidden--visually\" id=\"sk-estimator-id-24\" type=\"checkbox\" ><label for=\"sk-estimator-id-24\" class=\"sk-toggleable__label sk-toggleable__label-arrow\">One Hot Encoder</label><div class=\"sk-toggleable__content\"><pre>[&#x27;Gear_Type&#x27;, &#x27;Options&#x27;]</pre></div></div></div><div class=\"sk-serial\"><div class=\"sk-item\"><div class=\"sk-estimator sk-toggleable\"><input class=\"sk-toggleable__control sk-hidden--visually\" id=\"sk-estimator-id-25\" type=\"checkbox\" ><label for=\"sk-estimator-id-25\" class=\"sk-toggleable__label sk-toggleable__label-arrow\">OneHotEncoder</label><div class=\"sk-toggleable__content\"><pre>OneHotEncoder(drop=&#x27;first&#x27;)</pre></div></div></div></div></div></div><div class=\"sk-parallel-item\"><div class=\"sk-item\"><div class=\"sk-label-container\"><div class=\"sk-label sk-toggleable\"><input class=\"sk-toggleable__control sk-hidden--visually\" id=\"sk-estimator-id-26\" type=\"checkbox\" ><label for=\"sk-estimator-id-26\" class=\"sk-toggleable__label sk-toggleable__label-arrow\">Binary Encoder</label><div class=\"sk-toggleable__content\"><pre>[&#x27;Type&#x27;, &#x27;Region&#x27;, &#x27;Make&#x27;]</pre></div></div></div><div class=\"sk-serial\"><div class=\"sk-item\"><div class=\"sk-estimator sk-toggleable\"><input class=\"sk-toggleable__control sk-hidden--visually\" id=\"sk-estimator-id-27\" type=\"checkbox\" ><label for=\"sk-estimator-id-27\" class=\"sk-toggleable__label sk-toggleable__label-arrow\">BinaryEncoder</label><div class=\"sk-toggleable__content\"><pre>BinaryEncoder()</pre></div></div></div></div></div></div><div class=\"sk-parallel-item\"><div class=\"sk-item\"><div class=\"sk-label-container\"><div class=\"sk-label sk-toggleable\"><input class=\"sk-toggleable__control sk-hidden--visually\" id=\"sk-estimator-id-28\" type=\"checkbox\" ><label for=\"sk-estimator-id-28\" class=\"sk-toggleable__label sk-toggleable__label-arrow\">remainder</label><div class=\"sk-toggleable__content\"><pre>[&#x27;Year&#x27;, &#x27;Engine_Size&#x27;, &#x27;Mileage&#x27;]</pre></div></div></div><div class=\"sk-serial\"><div class=\"sk-item\"><div class=\"sk-estimator sk-toggleable\"><input class=\"sk-toggleable__control sk-hidden--visually\" id=\"sk-estimator-id-29\" type=\"checkbox\" ><label for=\"sk-estimator-id-29\" class=\"sk-toggleable__label sk-toggleable__label-arrow\">passthrough</label><div class=\"sk-toggleable__content\"><pre>passthrough</pre></div></div></div></div></div></div></div></div><div class=\"sk-item\"><div class=\"sk-estimator sk-toggleable\"><input class=\"sk-toggleable__control sk-hidden--visually\" id=\"sk-estimator-id-30\" type=\"checkbox\" ><label for=\"sk-estimator-id-30\" class=\"sk-toggleable__label sk-toggleable__label-arrow\">XGBRegressor</label><div class=\"sk-toggleable__content\"><pre>XGBRegressor(base_score=None, booster=None, callbacks=None,\n",
       "             colsample_bylevel=None, colsample_bynode=None,\n",
       "             colsample_bytree=None, early_stopping_rounds=None,\n",
       "             enable_categorical=False, eval_metric=None, gamma=None,\n",
       "             gpu_id=None, grow_policy=None, importance_type=None,\n",
       "             interaction_constraints=None, learning_rate=None, max_bin=None,\n",
       "             max_cat_to_onehot=None, max_delta_step=None, max_depth=None,\n",
       "             max_leaves=None, min_child_weight=None, missing=nan,\n",
       "             monotone_constraints=None, n_estimators=100, n_jobs=None,\n",
       "             num_parallel_tree=None, predictor=None, random_state=100,\n",
       "             reg_alpha=None, reg_lambda=None, ...)</pre></div></div></div></div></div></div></div></div></div></div></div></div>"
      ],
      "text/plain": [
       "GridSearchCV(cv=KFold(n_splits=5, random_state=1, shuffle=True),\n",
       "             estimator=Pipeline(steps=[('preprocessing',\n",
       "                                        ColumnTransformer(remainder='passthrough',\n",
       "                                                          transformers=[('One '\n",
       "                                                                         'Hot '\n",
       "                                                                         'Encoder',\n",
       "                                                                         OneHotEncoder(drop='first'),\n",
       "                                                                         ['Gear_Type',\n",
       "                                                                          'Options']),\n",
       "                                                                        ('Binary '\n",
       "                                                                         'Encoder',\n",
       "                                                                         BinaryEncoder(),\n",
       "                                                                         ['Type',\n",
       "                                                                          'Region',\n",
       "                                                                          'Make'])])),\n",
       "                                       ('model',\n",
       "                                        XGBRegressor(base_score=None,\n",
       "                                                     booster=None,...\n",
       "                                                     num_parallel_tree=None,\n",
       "                                                     predictor=None,\n",
       "                                                     random_state=100,\n",
       "                                                     reg_alpha=None,\n",
       "                                                     reg_lambda=None, ...))]),\n",
       "             n_jobs=-1,\n",
       "             param_grid={'model__learning_rate': [0.01, 0.05, 0.1, 0.5, 0.9],\n",
       "                         'model__max_depth': [7, 8, 9, 10],\n",
       "                         'model__n_estimators': [75, 100, 125, 150, 175, 200,\n",
       "                                                 225, 250, 275, 300]},\n",
       "             refit='neg_mean_absolute_error',\n",
       "             scoring=['neg_mean_absolute_error',\n",
       "                      'neg_mean_absolute_percentage_error'])"
      ]
     },
     "execution_count": 313,
     "metadata": {},
     "output_type": "execute_result"
    }
   ],
   "source": [
    "gs.fit(X_train, y_train)"
   ]
  },
  {
   "cell_type": "code",
   "execution_count": 314,
   "metadata": {},
   "outputs": [
    {
     "name": "stdout",
     "output_type": "stream",
     "text": [
      "Extreme Gradient Boost\n",
      "Best_score: -17100.08899432785\n",
      "Best_params: {'model__learning_rate': 0.05, 'model__max_depth': 9, 'model__n_estimators': 250}\n"
     ]
    }
   ],
   "source": [
    "print('Extreme Gradient Boost')\n",
    "print('Best_score:', gs.best_score_)\n",
    "print('Best_params:', gs.best_params_)"
   ]
  },
  {
   "cell_type": "markdown",
   "metadata": {},
   "source": [
    "Dari hasil *hyperparameter tuning* didapatkan hasil perubahan sebagai berikut:\n",
    "1. learning_rate : 0.05\n",
    "2. max_depth : 9\n",
    "3. n_estimators : 250\n",
    "\n",
    "Kemudian kita akan masukkan perubahan parameter tersebut ke model dan mencoba lagi ke data *test*."
   ]
  },
  {
   "cell_type": "markdown",
   "metadata": {},
   "source": [
    "##### 4.3.3 *Test Model after Hyperparameter Tuning*\n",
    "\n",
    "Tahap 3"
   ]
  },
  {
   "cell_type": "code",
   "execution_count": 352,
   "metadata": {},
   "outputs": [
    {
     "name": "stdout",
     "output_type": "stream",
     "text": [
      "Nilai hasil tuning:\n"
     ]
    },
    {
     "data": {
      "text/html": [
       "<div>\n",
       "<style scoped>\n",
       "    .dataframe tbody tr th:only-of-type {\n",
       "        vertical-align: middle;\n",
       "    }\n",
       "\n",
       "    .dataframe tbody tr th {\n",
       "        vertical-align: top;\n",
       "    }\n",
       "\n",
       "    .dataframe thead th {\n",
       "        text-align: right;\n",
       "    }\n",
       "</style>\n",
       "<table border=\"1\" class=\"dataframe\">\n",
       "  <thead>\n",
       "    <tr style=\"text-align: right;\">\n",
       "      <th></th>\n",
       "      <th>Score MAE</th>\n",
       "      <th>Score MAPE</th>\n",
       "      <th>Score RMSLE</th>\n",
       "    </tr>\n",
       "  </thead>\n",
       "  <tbody>\n",
       "    <tr>\n",
       "      <th>Extreme Gradient Boost Tuning</th>\n",
       "      <td>14329.075924</td>\n",
       "      <td>0.233788</td>\n",
       "      <td>0.091218</td>\n",
       "    </tr>\n",
       "  </tbody>\n",
       "</table>\n",
       "</div>"
      ],
      "text/plain": [
       "                                  Score MAE  Score MAPE  Score RMSLE\n",
       "Extreme Gradient Boost Tuning  14329.075924    0.233788     0.091218"
      ]
     },
     "execution_count": 352,
     "metadata": {},
     "output_type": "execute_result"
    }
   ],
   "source": [
    "xgb_tuning = TransformedTargetRegressor(gs.best_estimator_, func=np.log, inverse_func = np.exp)\n",
    "\n",
    "xgb_tuning.fit(X_train, y_train)\n",
    "\n",
    "y_pred_xgb_tuning = xgb_tuning.predict(X_test)\n",
    "\n",
    "mae_xgb_tuning = mean_absolute_error(y_test, y_pred_xgb_tuning)\n",
    "mape_xgb_tuning = mean_absolute_percentage_error(y_test, y_pred_xgb_tuning)\n",
    "rmsle_xgb_tuning = mean_squared_log_error(y_test, y_pred_xgb_tuning)\n",
    "\n",
    "\n",
    "score_after_tuning = pd.DataFrame({'Score MAE': mae_xgb_tuning,\n",
    "                                   'Score MAPE': mape_xgb_tuning,\n",
    "                                   'Score RMSLE': rmsle_xgb_tuning},\n",
    "                                   index = [\"Extreme Gradient Boost Tuning\"])\n",
    "print(\"Nilai hasil tuning:\")\n",
    "score_after_tuning"
   ]
  },
  {
   "cell_type": "markdown",
   "metadata": {},
   "source": [
    "Berikut adalah perbandingan nilai *test* model dari yang sebelum di-*tuning* dan sesudah di-*tuning*."
   ]
  },
  {
   "cell_type": "code",
   "execution_count": 316,
   "metadata": {},
   "outputs": [
    {
     "data": {
      "text/html": [
       "<div>\n",
       "<style scoped>\n",
       "    .dataframe tbody tr th:only-of-type {\n",
       "        vertical-align: middle;\n",
       "    }\n",
       "\n",
       "    .dataframe tbody tr th {\n",
       "        vertical-align: top;\n",
       "    }\n",
       "\n",
       "    .dataframe thead th {\n",
       "        text-align: right;\n",
       "    }\n",
       "</style>\n",
       "<table border=\"1\" class=\"dataframe\">\n",
       "  <thead>\n",
       "    <tr style=\"text-align: right;\">\n",
       "      <th></th>\n",
       "      <th>Score MAE</th>\n",
       "      <th>Score MAPE</th>\n",
       "      <th>Score RMSLE</th>\n",
       "    </tr>\n",
       "  </thead>\n",
       "  <tbody>\n",
       "    <tr>\n",
       "      <th>Extreme Gradient Boost Test</th>\n",
       "      <td>14816.721184</td>\n",
       "      <td>0.249703</td>\n",
       "      <td>0.318825</td>\n",
       "    </tr>\n",
       "    <tr>\n",
       "      <th>Extreme Gradient Boost Tuning</th>\n",
       "      <td>14329.075924</td>\n",
       "      <td>0.233788</td>\n",
       "      <td>0.091218</td>\n",
       "    </tr>\n",
       "  </tbody>\n",
       "</table>\n",
       "</div>"
      ],
      "text/plain": [
       "                                  Score MAE  Score MAPE  Score RMSLE\n",
       "Extreme Gradient Boost Test    14816.721184    0.249703     0.318825\n",
       "Extreme Gradient Boost Tuning  14329.075924    0.233788     0.091218"
      ]
     },
     "execution_count": 316,
     "metadata": {},
     "output_type": "execute_result"
    }
   ],
   "source": [
    "pd.concat([score_before_tuning, score_after_tuning]).drop(columns = 'Score R2')"
   ]
  },
  {
   "cell_type": "markdown",
   "metadata": {},
   "source": [
    "Dilihat dari tabel di atas, hasil *tuning* menunjukkan model dapat memprediksi lebih baik berdasarkan nilai *metric evaluation* (nilai semakin rendah).\n",
    "<br>\n",
    "<br>\n",
    "Sekarang mari kita lihat plot perbandingan dari data test asli dengan data test yang sudah diprediksi"
   ]
  },
  {
   "cell_type": "code",
   "execution_count": 342,
   "metadata": {},
   "outputs": [
    {
     "data": {
      "image/png": "[encoded data removed]",
      "text/plain": [
       "<Figure size 1008x720 with 1 Axes>"
      ]
     },
     "metadata": {
      "needs_background": "light"
     },
     "output_type": "display_data"
    }
   ],
   "source": [
    "plt.figure(figsize=(14, 10))\n",
    "plot = sns.regplot(x = y_test,\n",
    "                   y = y_pred_xgb_tuning,\n",
    "                   scatter_kws={\"color\": \"purple\", 'alpha': 0.3},\n",
    "                   line_kws={'color': '#CCCC00', 'alpha': 1}).set(title='Actual vs Prediction Price', \n",
    "                                                                  xlabel='Actual Price', \n",
    "                                                                  ylabel='Predicted Price');"
   ]
  },
  {
   "cell_type": "code",
   "execution_count": 321,
   "metadata": {},
   "outputs": [
    {
     "data": {
      "text/html": [
       "<div>\n",
       "<style scoped>\n",
       "    .dataframe tbody tr th:only-of-type {\n",
       "        vertical-align: middle;\n",
       "    }\n",
       "\n",
       "    .dataframe tbody tr th {\n",
       "        vertical-align: top;\n",
       "    }\n",
       "\n",
       "    .dataframe thead th {\n",
       "        text-align: right;\n",
       "    }\n",
       "</style>\n",
       "<table border=\"1\" class=\"dataframe\">\n",
       "  <thead>\n",
       "    <tr style=\"text-align: right;\">\n",
       "      <th></th>\n",
       "      <th>Range Price (SAR)</th>\n",
       "      <th>Score MAE (SAR)</th>\n",
       "      <th>Score MAPE (%)</th>\n",
       "      <th>Jumlah Data</th>\n",
       "    </tr>\n",
       "  </thead>\n",
       "  <tbody>\n",
       "    <tr>\n",
       "      <th>0</th>\n",
       "      <td>&lt;10k</td>\n",
       "      <td>11478.460424</td>\n",
       "      <td>265.606563</td>\n",
       "      <td>19</td>\n",
       "    </tr>\n",
       "    <tr>\n",
       "      <th>1</th>\n",
       "      <td>10k-20k</td>\n",
       "      <td>7169.117645</td>\n",
       "      <td>45.650182</td>\n",
       "      <td>80</td>\n",
       "    </tr>\n",
       "    <tr>\n",
       "      <th>2</th>\n",
       "      <td>20k-30k</td>\n",
       "      <td>5649.809911</td>\n",
       "      <td>21.400959</td>\n",
       "      <td>126</td>\n",
       "    </tr>\n",
       "    <tr>\n",
       "      <th>3</th>\n",
       "      <td>30k-40k</td>\n",
       "      <td>6256.312186</td>\n",
       "      <td>17.347494</td>\n",
       "      <td>118</td>\n",
       "    </tr>\n",
       "    <tr>\n",
       "      <th>4</th>\n",
       "      <td>40k-50k</td>\n",
       "      <td>7097.439251</td>\n",
       "      <td>15.449993</td>\n",
       "      <td>135</td>\n",
       "    </tr>\n",
       "    <tr>\n",
       "      <th>5</th>\n",
       "      <td>50k-100k</td>\n",
       "      <td>11369.744581</td>\n",
       "      <td>15.940829</td>\n",
       "      <td>401</td>\n",
       "    </tr>\n",
       "    <tr>\n",
       "      <th>6</th>\n",
       "      <td>100k-150k</td>\n",
       "      <td>18693.552093</td>\n",
       "      <td>15.154361</td>\n",
       "      <td>137</td>\n",
       "    </tr>\n",
       "    <tr>\n",
       "      <th>7</th>\n",
       "      <td>150k-200k</td>\n",
       "      <td>32472.867357</td>\n",
       "      <td>19.269563</td>\n",
       "      <td>46</td>\n",
       "    </tr>\n",
       "    <tr>\n",
       "      <th>8</th>\n",
       "      <td>200k-250k</td>\n",
       "      <td>39971.695638</td>\n",
       "      <td>17.847602</td>\n",
       "      <td>24</td>\n",
       "    </tr>\n",
       "    <tr>\n",
       "      <th>9</th>\n",
       "      <td>250k-300k</td>\n",
       "      <td>65921.971507</td>\n",
       "      <td>23.698914</td>\n",
       "      <td>17</td>\n",
       "    </tr>\n",
       "    <tr>\n",
       "      <th>10</th>\n",
       "      <td>300k-350k</td>\n",
       "      <td>89970.450893</td>\n",
       "      <td>26.883180</td>\n",
       "      <td>7</td>\n",
       "    </tr>\n",
       "    <tr>\n",
       "      <th>11</th>\n",
       "      <td>350k-400k</td>\n",
       "      <td>109043.537500</td>\n",
       "      <td>29.487547</td>\n",
       "      <td>5</td>\n",
       "    </tr>\n",
       "    <tr>\n",
       "      <th>12</th>\n",
       "      <td>400k-450k</td>\n",
       "      <td>88772.612500</td>\n",
       "      <td>20.586755</td>\n",
       "      <td>5</td>\n",
       "    </tr>\n",
       "    <tr>\n",
       "      <th>13</th>\n",
       "      <td>&gt;450k (Max 620k)</td>\n",
       "      <td>192917.562500</td>\n",
       "      <td>34.011827</td>\n",
       "      <td>3</td>\n",
       "    </tr>\n",
       "    <tr>\n",
       "      <th>14</th>\n",
       "      <td>All Range (Max 620k)</td>\n",
       "      <td>14329.075924</td>\n",
       "      <td>23.378848</td>\n",
       "      <td>1123</td>\n",
       "    </tr>\n",
       "  </tbody>\n",
       "</table>\n",
       "</div>"
      ],
      "text/plain": [
       "       Range Price (SAR)  Score MAE (SAR)  Score MAPE (%)  Jumlah Data\n",
       "0                   <10k     11478.460424      265.606563           19\n",
       "1                10k-20k      7169.117645       45.650182           80\n",
       "2                20k-30k      5649.809911       21.400959          126\n",
       "3                30k-40k      6256.312186       17.347494          118\n",
       "4                40k-50k      7097.439251       15.449993          135\n",
       "5               50k-100k     11369.744581       15.940829          401\n",
       "6              100k-150k     18693.552093       15.154361          137\n",
       "7              150k-200k     32472.867357       19.269563           46\n",
       "8              200k-250k     39971.695638       17.847602           24\n",
       "9              250k-300k     65921.971507       23.698914           17\n",
       "10             300k-350k     89970.450893       26.883180            7\n",
       "11             350k-400k    109043.537500       29.487547            5\n",
       "12             400k-450k     88772.612500       20.586755            5\n",
       "13      >450k (Max 620k)    192917.562500       34.011827            3\n",
       "14  All Range (Max 620k)     14329.075924       23.378848         1123"
      ]
     },
     "execution_count": 321,
     "metadata": {},
     "output_type": "execute_result"
    }
   ],
   "source": [
    "df_y_pred = pd.DataFrame({'y_test': y_test, 'y_test_pred': y_pred_xgb_tuning})\n",
    "df_y_pred.reset_index(drop = True, inplace = True)\n",
    "df_y_pred.sort_values('y_test').head(20)\n",
    "\n",
    "df_y_pred10k = df_y_pred[df_y_pred['y_test']<=10000]\n",
    "df_y_pred20k = df_y_pred[(df_y_pred['y_test']>10000) & (df_y_pred['y_test']<=20000)]\n",
    "df_y_pred30k = df_y_pred[(df_y_pred['y_test']>20000) & (df_y_pred['y_test']<=30000)]\n",
    "df_y_pred40k = df_y_pred[(df_y_pred['y_test']>30000) & (df_y_pred['y_test']<=40000)]\n",
    "df_y_pred50k = df_y_pred[(df_y_pred['y_test']>40000) & (df_y_pred['y_test']<=50000)]\n",
    "df_y_pred100k = df_y_pred[(df_y_pred['y_test']>50000) & (df_y_pred['y_test']<=100000)]\n",
    "df_y_pred150k = df_y_pred[(df_y_pred['y_test']>100000) & (df_y_pred['y_test']<=150000)]\n",
    "df_y_pred200k = df_y_pred[(df_y_pred['y_test']>150000) & (df_y_pred['y_test']<=200000)]\n",
    "df_y_pred250k = df_y_pred[(df_y_pred['y_test']>200000) & (df_y_pred['y_test']<=250000)]\n",
    "df_y_pred300k = df_y_pred[(df_y_pred['y_test']>250000) & (df_y_pred['y_test']<=300000)]\n",
    "df_y_pred350k = df_y_pred[(df_y_pred['y_test']>300000) & (df_y_pred['y_test']<=350000)]\n",
    "df_y_pred400k = df_y_pred[(df_y_pred['y_test']>350000) & (df_y_pred['y_test']<=400000)]\n",
    "df_y_pred450k = df_y_pred[(df_y_pred['y_test']>400000) & (df_y_pred['y_test']<=450000)]\n",
    "df_y_predmax = df_y_pred[(df_y_pred['y_test']>450000)]\n",
    "\n",
    "list_range = [df_y_pred10k,\n",
    "              df_y_pred20k,\n",
    "              df_y_pred30k,\n",
    "              df_y_pred40k,\n",
    "              df_y_pred50k,\n",
    "              df_y_pred100k,\n",
    "              df_y_pred150k,\n",
    "              df_y_pred200k,\n",
    "              df_y_pred250k,\n",
    "              df_y_pred300k,\n",
    "              df_y_pred350k,\n",
    "              df_y_pred400k,\n",
    "              df_y_pred450k,\n",
    "              df_y_predmax,\n",
    "              df_y_pred]\n",
    "\n",
    "list_range2 = ['<10k', '10k-20k', '20k-30k', '30k-40k', '40k-50k', '50k-100k', '100k-150k', '150k-200k', '200k-250k', '250k-300k', '300k-350k', '350k-400k', '400k-450k', '>450k (Max 620k)', 'All Range (Max 620k)']\n",
    "list_mae = []\n",
    "list_mape = []\n",
    "list_len = []\n",
    "\n",
    "for i in list_range:\n",
    "    scoremae = mean_absolute_error(i['y_test'], i['y_test_pred'])\n",
    "    scoremape = mean_absolute_percentage_error(i['y_test'], i['y_test_pred'])\n",
    "    len_df = len(i)\n",
    "    list_mae.append(scoremae)\n",
    "    list_mape.append(scoremape*100)\n",
    "    list_len.append(len_df)\n",
    "\n",
    "range_metrics = pd.DataFrame({\"Range Price (SAR)\": list_range2,\n",
    "              \"Score MAE (SAR)\": list_mae,\n",
    "              \"Score MAPE (%)\": list_mape,\n",
    "              \"Jumlah Data\": list_len})\n",
    "range_metrics\n",
    "\n",
    "\n"
   ]
  },
  {
   "cell_type": "markdown",
   "metadata": {},
   "source": [
    "Dari plot dan tabel di atas, model ini hanya mampu memprediksi harga mobil bekas mulai dari 20 ribu SAR sampai dengan 350 ribu SAR. Kemampuan prediksi ini dilihat dari nilai *metric evaluation* MAPE tiap range dibandingkan dengan nilai *metric evaluation* MAPE seluruh data *test*. Matrix ini dipilih karena MAPE adalah matrix penilaian hasil prediksi yang selisih akhirnya akan dipersentasekan. Terlihat range prediksi yang paling parah ada di bawah 10 ribu SAR karena nilai MAPE-nya mencapai 265%. Diikuti range 10k - 20k SAR dengan MAPE 45%. Setelah range tersebut, model dianggap baik karena mampu memprediksi dengan nilai MAPE-nya mendekati nilai MAPE data *test*. Batas akhir dari model ini ada pada nilai maksimum 350 ribu SAR jika berdasarkan nilai MAPE dari data *test*. Jika kita melihat untuk harga tertinggi yaitu 620 ribu SAR, harganya sangat melenceng jauh dari prediksi. Hal ini dikarenakan semakin tinggi harga mobil, kualitas dari nama merk mobilpun semakin bagus dan jumlahnya semakin sedikit. Seperti hukum alam yang berlaku pada kepemilikan mobil bahwa semakin tinggi harga barang yang dimiliki maka semakin sedikit pula orang-orang yang memiliki barang mahal tersebut. Semakin sedikitnya tipe merk mobil yang dijual membuat model menjadi **kekurangan data** terhadap merk yang jumlahnya sedikit tersebut. Hal inilah yang membuat harga mobil yang tinggi prediksinya bisa meleset."
   ]
  },
  {
   "cell_type": "markdown",
   "metadata": {},
   "source": [
    "*Feature Importances*"
   ]
  },
  {
   "cell_type": "code",
   "execution_count": 343,
   "metadata": {},
   "outputs": [
    {
     "data": {
      "image/png": "[encoded data removed]",
      "text/plain": [
       "<Figure size 432x288 with 1 Axes>"
      ]
     },
     "metadata": {
      "needs_background": "light"
     },
     "output_type": "display_data"
    }
   ],
   "source": [
    "xgb_tuning = gs.best_estimator_\n",
    "\n",
    "feature_imp = pd.Series(xgb_tuning['model'].feature_importances_, ct.get_feature_names()).sort_values(ascending = False).head(10)\n",
    "\n",
    "feature_imp.plot(kind='barh', title='Feature Importances')\n",
    "plt.show()"
   ]
  },
  {
   "cell_type": "markdown",
   "metadata": {},
   "source": [
    "Terlihat dari plot di atas bahwa *feature* \"Year\" memiliki pengaruh yang tinggi terhadap harga penjualan mobil bekas."
   ]
  },
  {
   "cell_type": "markdown",
   "metadata": {},
   "source": [
    "### 5. ***Conclusion***"
   ]
  },
  {
   "cell_type": "markdown",
   "metadata": {},
   "source": [
    "Setelah mendapatkan model yang maskimal untuk datasets ini dapat disimpulkan bahwa:\n",
    "1. Hasil model yang didapatkan adalah Extreme Gradient Boost Regression dengan perubahan parameter bawaan menjadi:\n",
    "    - learning_rate : 0.05\n",
    "    - max_depth : 9\n",
    "    - n_estimators : 250<br>\n",
    "<br>\n",
    "2. Dari Pemodelan yang dilakukan, fitur \"Year\" sangat mempengaruhi harga mobil bekas.\n",
    "\n",
    "3. Dari penghapusan *outlier* yang ekstrem dari 2 kolom, limitasi didapatkan sebagai berikut:\n",
    "    - Harga maksimal adalah 620000 SAR.\n",
    "    - Tahun tertua mobil bekas adalah tahun 1978.<br>\n",
    "<br>\n",
    "4. Variabel *target* \"Price\" yang bernilai 0 tidak digunakan dalam pemodelan karena bersifat negosiasi. Sedangkan dalam *Machine Learning* kita membutuhkan angka yang pasti.\n",
    "\n",
    "5. Berdasarkan Evaluasi Matrix, model ini memiliki error sekitar 14329 SAR (dari MAE) atau sebesar 23% (dari MAPE) prediksi akan melenceng.\n",
    "\n",
    "6. Dari hasil plot dan tabel range price, kita mengetahui sejumlah limitasi model tambahan yakni:\n",
    "    - Semakin sedikit jumlah merk mobil yang dijajakan, semakin sulit model akan memprediksi harga.\n",
    "    - Untuk mobil yang sekiranya ingin dijual dibawah 10k SAR, model ini tidak cocok digunakan.\n",
    "    - Setidaknya dibutuhkan sejumlah merk mobil yang sama supaya harga prediksi bisa akurat. Contohnya kita ambil merk Ghost (di datasets ini hanya 1 buah) dari Rolls-Royce. Jika merk yang sama masuk, harganya akan diprediksi melenceng jauh karena kurangnya data untuk merk mobil Ghost dari Rolls-Royce."
   ]
  },
  {
   "cell_type": "markdown",
   "metadata": {},
   "source": [
    "### 6. ***Recommendation***"
   ]
  },
  {
   "cell_type": "markdown",
   "metadata": {},
   "source": [
    "Berikut adalah rekomendasi yang dapat diberikan supya model lebih maksimal:\n",
    "\n",
    "1. Menambah sejumlah *feature* seperti \"Perlu Bengkel Telebih Dahulu?\", \"Garansi Resmi Mobil\", \"Kondisi Mobil\" dll yang secara logika korelasinya sangat besar dalam menentukan harga mobil bekas.\n",
    "\n",
    "2. Mengingat jumlah data yang sangat sedikit setelah menjadi data yang bersih (sekitar 3 ribuan), diperlukan adanya penambahan data supaya model bisa memprediksi secara akurat.\n",
    "\n",
    "3. Penambahan jumlah data perlu diberi perhatian kepada merk mobil yang jumlahnya sedikit dan harganya yang mahal. Sedikitnya jumlah data tersebut sangat mempengaruhi hasil akhir model yang didapat untuk merk mobil yang jumlahnya sedikit.\n",
    "\n",
    "4. Kedepan model ini perlu dibantu oleh model klasifikasi yang variabel targetnya adalah penjualan yang \"menguntungkan atau tidak\" berdasarkan nilai harga mobil yang sudah terjual. "
   ]
  },
  {
   "cell_type": "markdown",
   "metadata": {},
   "source": [
    "### Save Model"
   ]
  },
  {
   "cell_type": "code",
   "execution_count": 346,
   "metadata": {},
   "outputs": [],
   "source": [
    "import pickle\n",
    "\n",
    "gs.best_estimator_.fit(X, y)\n",
    "pickle.dump(gs.best_estimator_, open('Final_Model_MuhammadMukhlis_Capstone_Modul_3.sav', 'wb'))   "
   ]
  }
 ],
 "metadata": {
  "kernelspec": {
   "display_name": "Python 3.10.0 64-bit",
   "language": "python",
   "name": "python3"
  },
  "language_info": {
   "codemirror_mode": {
    "name": "ipython",
    "version": 3
   },
   "file_extension": ".py",
   "mimetype": "text/x-python",
   "name": "python",
   "nbconvert_exporter": "python",
   "pygments_lexer": "ipython3",
   "version": "3.10.0"
  },
  "orig_nbformat": 4,
  "vscode": {
   "interpreter": {
    "hash": "ccc9907020a360c0774b7240d7189d7caac06a5804f44f1a6c385a36278d3a41"
   }
  }
 },
 "nbformat": 4,
 "nbformat_minor": 2
}
